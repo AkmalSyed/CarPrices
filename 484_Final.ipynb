{
 "cells": [
  {
   "cell_type": "markdown",
   "metadata": {},
   "source": [
    "# ECON 484 - Final Submission 2\n",
    "\n",
    "#### <u>Name of Submission:</u> FireBreathingRubberDucky\n",
    "#### <u>Accuracy of Algorithm in Question 1:</u>\n",
    "\n",
    "* MSE = 0.08049\n",
    "* R2 = 86.54%\n",
    "\n",
    "#### <u>Accuracy of Algorithm in Question 2:</u>\n",
    "\n",
    "* Percentage Accuracy = 92.83%\n",
    "\n",
    "\n",
    "***\n",
    "\n",
    "## Question 1  \n",
    "**Goal:** Create an algorithm to predict the Log of Car Price.  \n",
    "**Data:** Craigslist car listings data downloaded from Kaggle. Using \"large\" dataset provided, merged with \"additional text\" for each entry - 300,000 observations.  \n",
    "**Testing Data:** 30,000 observations from the same source, additional text merged.\n",
    "\n",
    "Procedure:\n",
    "* Import Library,\n",
    "* Import/Merge Data\n",
    "* Log price value\n",
    "\n",
    "\n",
    "### Import Libraries and Pre-process Data:"
   ]
  },
  {
   "cell_type": "code",
   "execution_count": 1,
   "metadata": {
    "scrolled": true
   },
   "outputs": [],
   "source": [
    "## Importing Libraries:\n",
    "import pandas as pd\n",
    "import statistics as stats\n",
    "import numpy as np\n",
    "from sklearn.model_selection import train_test_split\n",
    "from sklearn.ensemble import RandomForestRegressor, RandomForestClassifier\n",
    "import re\n",
    "from pandas.api.types import is_string_dtype\n",
    "from pandas.api.types import is_numeric_dtype\n",
    "\n",
    "## Accuracy Tools:\n",
    "from sklearn.metrics import r2_score\n",
    "from sklearn.metrics import mean_squared_error as mse\n",
    "from sklearn.metrics import accuracy_score\n",
    "\n",
    "## For Displaying:\n",
    "import matplotlib.pyplot as plt\n",
    "from sklearn.tree import export_graphviz\n",
    "import pydot\n",
    "from IPython.display import Image"
   ]
  },
  {
   "cell_type": "code",
   "execution_count": 2,
   "metadata": {},
   "outputs": [],
   "source": [
    "## Importing data:\n",
    "large_data = pd.read_csv('final_predcomp_training_data_large.csv',low_memory=False)\n",
    "## Since I plan to use dates extensively, ensuring parse_dates is mentioned:\n",
    "text_data = pd.read_csv('final_predcomp_training_data_additional_text_variables.csv',low_memory=False,\n",
    "                       parse_dates=[\"posting_date\"])"
   ]
  },
  {
   "cell_type": "markdown",
   "metadata": {},
   "source": [
    "#### FastAI Helper Functions:\n",
    "Here I will define several functions taken from the FastAi library to make my processing easier. I would use their library but I cant get it running due to some update issues. Nevertheless, here is the sourcecode:"
   ]
  },
  {
   "cell_type": "code",
   "execution_count": 3,
   "metadata": {},
   "outputs": [],
   "source": [
    "## Define add_datepart:\n",
    "def add_datepart(df,fldname):\n",
    "    '''\n",
    "    Helper function that adds columns relevant to a date in the column fldname of df.\n",
    "    '''\n",
    "    fld = df[fldname]\n",
    "    targ_pre = re.sub('[Dd]ate$', '', fldname)\n",
    "    for n in ('Year', 'Month', 'Week', 'Day', 'Dayofweek', 'Dayofyear',\n",
    "             'Is_month_end', 'Is_month_start', 'Is_quarter_end', 'Is_quarter_start', 'Is_year_end',\n",
    "             'Is_year_start'):\n",
    "        df[targ_pre+n] = getattr(fld.dt,n.lower())\n",
    "    df[targ_pre+'Elapsed'] = (fld - fld.min()).dt.days\n",
    "    df.drop(fldname, axis=1, inplace=True)\n",
    "    \n",
    "def train_cats(df):\n",
    "    '''\n",
    "    Change any columns of strings in a panda's dataframe to a column of categorical values. This applies the changes inplace.\n",
    "    '''\n",
    "    for n,c in df.items():\n",
    "        if is_string_dtype(c): df[n] = c.astype('category').cat.as_ordered()\n",
    "\n",
    "## Apply_cats will be for the test_set later:\n",
    "def apply_cats(df,trn):\n",
    "    '''\n",
    "    Changes any columns of strings in df into categorical variables using trn as a template for the category codes.\n",
    "    '''\n",
    "    for n,c in df.items():\n",
    "        if trn[n].dtype.name=='category':\n",
    "            df[n] = pd.Categorical(c, categories=trn[n].cat.categories, ordered=True)\n",
    "            \n",
    "def display_all(df):\n",
    "    with pd.option_context(\"display.max_rows\", 1000, \"display.max_columns\", 1000): \n",
    "        display(df)\n",
    "        \n",
    "## --- For Proc_df ---\n",
    "\n",
    "def fix_missing(df, col, name):\n",
    "    if is_numeric_dtype(col):\n",
    "        if pd.isnull(col).sum(): df[name+'_na'] = pd.isnull(col)\n",
    "        df[name] = col.fillna(col.median())\n",
    "\n",
    "def numericalize(df, col, name, max_n_cat):\n",
    "    if not is_numeric_dtype(col) and ( max_n_cat is None or col.nunique()>max_n_cat):\n",
    "        df[name] = col.cat.codes+1\n",
    "        \n",
    "        \n",
    "def proc_df(df, y_fld, skip_flds=None, do_scale=False,\n",
    "           preproc_fn=None, max_n_cat=None, subset=None):\n",
    "    if not skip_flds: skip_flds=[]\n",
    "    if subset: df = get_sample(df,subset)\n",
    "    df = df.copy()\n",
    "    if preproc_fn: preproc_fn(df)\n",
    "    y = df[y_fld].values\n",
    "    df.drop(skip_flds+[y_fld], axis=1, inplace=True)\n",
    "    \n",
    "    for n,c in df.items(): fix_missing(df,c,n)\n",
    "    if do_scale: mapper = scale_vars(df)\n",
    "    for n,c in df.items(): numericalize(df, c, n, max_n_cat)\n",
    "    res = [pd.get_dummies(df, dummy_na=True), y]\n",
    "    if not do_scale: return res\n",
    "    return res + [mapper]"
   ]
  },
  {
   "cell_type": "markdown",
   "metadata": {},
   "source": [
    "Merging datasources based on their ID column:"
   ]
  },
  {
   "cell_type": "code",
   "execution_count": 4,
   "metadata": {},
   "outputs": [
    {
     "data": {
      "text/html": [
       "<div>\n",
       "<style scoped>\n",
       "    .dataframe tbody tr th:only-of-type {\n",
       "        vertical-align: middle;\n",
       "    }\n",
       "\n",
       "    .dataframe tbody tr th {\n",
       "        vertical-align: top;\n",
       "    }\n",
       "\n",
       "    .dataframe thead th {\n",
       "        text-align: right;\n",
       "    }\n",
       "</style>\n",
       "<table border=\"1\" class=\"dataframe\">\n",
       "  <thead>\n",
       "    <tr style=\"text-align: right;\">\n",
       "      <th></th>\n",
       "      <th>0</th>\n",
       "      <th>1</th>\n",
       "      <th>2</th>\n",
       "      <th>3</th>\n",
       "      <th>4</th>\n",
       "    </tr>\n",
       "  </thead>\n",
       "  <tbody>\n",
       "    <tr>\n",
       "      <th>id</th>\n",
       "      <td>7234568651</td>\n",
       "      <td>7229694925</td>\n",
       "      <td>7237581553</td>\n",
       "      <td>7235261085</td>\n",
       "      <td>7235871752</td>\n",
       "    </tr>\n",
       "    <tr>\n",
       "      <th>price</th>\n",
       "      <td>44989</td>\n",
       "      <td>39988</td>\n",
       "      <td>25990</td>\n",
       "      <td>18990</td>\n",
       "      <td>39995</td>\n",
       "    </tr>\n",
       "    <tr>\n",
       "      <th>year</th>\n",
       "      <td>2015</td>\n",
       "      <td>2017</td>\n",
       "      <td>2017</td>\n",
       "      <td>2011</td>\n",
       "      <td>2017</td>\n",
       "    </tr>\n",
       "    <tr>\n",
       "      <th>odometer</th>\n",
       "      <td>71639</td>\n",
       "      <td>108531</td>\n",
       "      <td>48931</td>\n",
       "      <td>97792</td>\n",
       "      <td>121365</td>\n",
       "    </tr>\n",
       "    <tr>\n",
       "      <th>cylinders</th>\n",
       "      <td>8</td>\n",
       "      <td>NaN</td>\n",
       "      <td>NaN</td>\n",
       "      <td>8</td>\n",
       "      <td>NaN</td>\n",
       "    </tr>\n",
       "    <tr>\n",
       "      <th>transmission</th>\n",
       "      <td>automatic</td>\n",
       "      <td>automatic</td>\n",
       "      <td>automatic</td>\n",
       "      <td>other</td>\n",
       "      <td>automatic</td>\n",
       "    </tr>\n",
       "    <tr>\n",
       "      <th>drive</th>\n",
       "      <td>4wd</td>\n",
       "      <td>NaN</td>\n",
       "      <td>NaN</td>\n",
       "      <td>NaN</td>\n",
       "      <td>4wd</td>\n",
       "    </tr>\n",
       "    <tr>\n",
       "      <th>type</th>\n",
       "      <td>truck</td>\n",
       "      <td>other</td>\n",
       "      <td>other</td>\n",
       "      <td>sedan</td>\n",
       "      <td>NaN</td>\n",
       "    </tr>\n",
       "    <tr>\n",
       "      <th>paint_color</th>\n",
       "      <td>NaN</td>\n",
       "      <td>silver</td>\n",
       "      <td>blue</td>\n",
       "      <td>NaN</td>\n",
       "      <td>white</td>\n",
       "    </tr>\n",
       "    <tr>\n",
       "      <th>size</th>\n",
       "      <td>NaN</td>\n",
       "      <td>NaN</td>\n",
       "      <td>NaN</td>\n",
       "      <td>NaN</td>\n",
       "      <td>NaN</td>\n",
       "    </tr>\n",
       "    <tr>\n",
       "      <th>title_status</th>\n",
       "      <td>clean</td>\n",
       "      <td>clean</td>\n",
       "      <td>clean</td>\n",
       "      <td>clean</td>\n",
       "      <td>clean</td>\n",
       "    </tr>\n",
       "    <tr>\n",
       "      <th>condition</th>\n",
       "      <td>NaN</td>\n",
       "      <td>NaN</td>\n",
       "      <td>good</td>\n",
       "      <td>good</td>\n",
       "      <td>excellent</td>\n",
       "    </tr>\n",
       "    <tr>\n",
       "      <th>fuel</th>\n",
       "      <td>diesel</td>\n",
       "      <td>gas</td>\n",
       "      <td>hybrid</td>\n",
       "      <td>gas</td>\n",
       "      <td>diesel</td>\n",
       "    </tr>\n",
       "    <tr>\n",
       "      <th>state</th>\n",
       "      <td>or</td>\n",
       "      <td>sc</td>\n",
       "      <td>ca</td>\n",
       "      <td>va</td>\n",
       "      <td>ms</td>\n",
       "    </tr>\n",
       "    <tr>\n",
       "      <th>manufacturer</th>\n",
       "      <td>ford</td>\n",
       "      <td>ford</td>\n",
       "      <td>toyota</td>\n",
       "      <td>lexus</td>\n",
       "      <td>ford</td>\n",
       "    </tr>\n",
       "    <tr>\n",
       "      <th>description_length</th>\n",
       "      <td>NaN</td>\n",
       "      <td>2904</td>\n",
       "      <td>4550</td>\n",
       "      <td>4440</td>\n",
       "      <td>2673</td>\n",
       "    </tr>\n",
       "    <tr>\n",
       "      <th>description_credit</th>\n",
       "      <td>0</td>\n",
       "      <td>1</td>\n",
       "      <td>1</td>\n",
       "      <td>1</td>\n",
       "      <td>1</td>\n",
       "    </tr>\n",
       "    <tr>\n",
       "      <th>description_owner</th>\n",
       "      <td>0</td>\n",
       "      <td>1</td>\n",
       "      <td>0</td>\n",
       "      <td>0</td>\n",
       "      <td>0</td>\n",
       "    </tr>\n",
       "    <tr>\n",
       "      <th>description_badcredit</th>\n",
       "      <td>0</td>\n",
       "      <td>1</td>\n",
       "      <td>0</td>\n",
       "      <td>0</td>\n",
       "      <td>0</td>\n",
       "    </tr>\n",
       "    <tr>\n",
       "      <th>model</th>\n",
       "      <td>f-350 super duty xlt</td>\n",
       "      <td>f150 lariat 4x4</td>\n",
       "      <td>rav4 hybrid limited sport</td>\n",
       "      <td>ls 460 sedan 4d</td>\n",
       "      <td>f-350 f 350 f350</td>\n",
       "    </tr>\n",
       "    <tr>\n",
       "      <th>region</th>\n",
       "      <td>bend</td>\n",
       "      <td>columbia</td>\n",
       "      <td>stockton</td>\n",
       "      <td>norfolk / hampton roads</td>\n",
       "      <td>jackson</td>\n",
       "    </tr>\n",
       "    <tr>\n",
       "      <th>posting_date</th>\n",
       "      <td>2020-11-21 07:14:25</td>\n",
       "      <td>2020-11-12 16:16:11</td>\n",
       "      <td>2020-11-27 12:24:59</td>\n",
       "      <td>2020-11-22 17:21:50</td>\n",
       "      <td>2020-11-23 19:18:40</td>\n",
       "    </tr>\n",
       "    <tr>\n",
       "      <th>description</th>\n",
       "      <td>NaN</td>\n",
       "      <td>2017 FORD F150 LARIAT 4X4 SUPERCREW Offered by...</td>\n",
       "      <td>Carvana is the safer way to buy a car During t...</td>\n",
       "      <td>Carvana is the safer way to buy a car During t...</td>\n",
       "      <td>2017 *** Ford F-350 F 350 F350 XL 4x4 6.7L Pow...</td>\n",
       "    </tr>\n",
       "  </tbody>\n",
       "</table>\n",
       "</div>"
      ],
      "text/plain": [
       "                                          0  \\\n",
       "id                               7234568651   \n",
       "price                                 44989   \n",
       "year                                   2015   \n",
       "odometer                              71639   \n",
       "cylinders                                 8   \n",
       "transmission                      automatic   \n",
       "drive                                   4wd   \n",
       "type                                  truck   \n",
       "paint_color                             NaN   \n",
       "size                                    NaN   \n",
       "title_status                          clean   \n",
       "condition                               NaN   \n",
       "fuel                                 diesel   \n",
       "state                                    or   \n",
       "manufacturer                           ford   \n",
       "description_length                      NaN   \n",
       "description_credit                        0   \n",
       "description_owner                         0   \n",
       "description_badcredit                     0   \n",
       "model                  f-350 super duty xlt   \n",
       "region                                 bend   \n",
       "posting_date            2020-11-21 07:14:25   \n",
       "description                             NaN   \n",
       "\n",
       "                                                                       1  \\\n",
       "id                                                            7229694925   \n",
       "price                                                              39988   \n",
       "year                                                                2017   \n",
       "odometer                                                          108531   \n",
       "cylinders                                                            NaN   \n",
       "transmission                                                   automatic   \n",
       "drive                                                                NaN   \n",
       "type                                                               other   \n",
       "paint_color                                                       silver   \n",
       "size                                                                 NaN   \n",
       "title_status                                                       clean   \n",
       "condition                                                            NaN   \n",
       "fuel                                                                 gas   \n",
       "state                                                                 sc   \n",
       "manufacturer                                                        ford   \n",
       "description_length                                                  2904   \n",
       "description_credit                                                     1   \n",
       "description_owner                                                      1   \n",
       "description_badcredit                                                  1   \n",
       "model                                                    f150 lariat 4x4   \n",
       "region                                                          columbia   \n",
       "posting_date                                         2020-11-12 16:16:11   \n",
       "description            2017 FORD F150 LARIAT 4X4 SUPERCREW Offered by...   \n",
       "\n",
       "                                                                       2  \\\n",
       "id                                                            7237581553   \n",
       "price                                                              25990   \n",
       "year                                                                2017   \n",
       "odometer                                                           48931   \n",
       "cylinders                                                            NaN   \n",
       "transmission                                                   automatic   \n",
       "drive                                                                NaN   \n",
       "type                                                               other   \n",
       "paint_color                                                         blue   \n",
       "size                                                                 NaN   \n",
       "title_status                                                       clean   \n",
       "condition                                                           good   \n",
       "fuel                                                              hybrid   \n",
       "state                                                                 ca   \n",
       "manufacturer                                                      toyota   \n",
       "description_length                                                  4550   \n",
       "description_credit                                                     1   \n",
       "description_owner                                                      0   \n",
       "description_badcredit                                                  0   \n",
       "model                                          rav4 hybrid limited sport   \n",
       "region                                                          stockton   \n",
       "posting_date                                         2020-11-27 12:24:59   \n",
       "description            Carvana is the safer way to buy a car During t...   \n",
       "\n",
       "                                                                       3  \\\n",
       "id                                                            7235261085   \n",
       "price                                                              18990   \n",
       "year                                                                2011   \n",
       "odometer                                                           97792   \n",
       "cylinders                                                              8   \n",
       "transmission                                                       other   \n",
       "drive                                                                NaN   \n",
       "type                                                               sedan   \n",
       "paint_color                                                          NaN   \n",
       "size                                                                 NaN   \n",
       "title_status                                                       clean   \n",
       "condition                                                           good   \n",
       "fuel                                                                 gas   \n",
       "state                                                                 va   \n",
       "manufacturer                                                       lexus   \n",
       "description_length                                                  4440   \n",
       "description_credit                                                     1   \n",
       "description_owner                                                      0   \n",
       "description_badcredit                                                  0   \n",
       "model                                                    ls 460 sedan 4d   \n",
       "region                                           norfolk / hampton roads   \n",
       "posting_date                                         2020-11-22 17:21:50   \n",
       "description            Carvana is the safer way to buy a car During t...   \n",
       "\n",
       "                                                                       4  \n",
       "id                                                            7235871752  \n",
       "price                                                              39995  \n",
       "year                                                                2017  \n",
       "odometer                                                          121365  \n",
       "cylinders                                                            NaN  \n",
       "transmission                                                   automatic  \n",
       "drive                                                                4wd  \n",
       "type                                                                 NaN  \n",
       "paint_color                                                        white  \n",
       "size                                                                 NaN  \n",
       "title_status                                                       clean  \n",
       "condition                                                      excellent  \n",
       "fuel                                                              diesel  \n",
       "state                                                                 ms  \n",
       "manufacturer                                                        ford  \n",
       "description_length                                                  2673  \n",
       "description_credit                                                     1  \n",
       "description_owner                                                      0  \n",
       "description_badcredit                                                  0  \n",
       "model                                                   f-350 f 350 f350  \n",
       "region                                                           jackson  \n",
       "posting_date                                         2020-11-23 19:18:40  \n",
       "description            2017 *** Ford F-350 F 350 F350 XL 4x4 6.7L Pow...  "
      ]
     },
     "execution_count": 4,
     "metadata": {},
     "output_type": "execute_result"
    }
   ],
   "source": [
    "# Left Outer Merge:\n",
    "q1data = large_data.merge(text_data, on='id', how='left')\n",
    "q1data.head().T #Transposing for visibility"
   ]
  },
  {
   "cell_type": "markdown",
   "metadata": {},
   "source": [
    "The above displays the dataset we will be using, __transposed for visibility__ It has merged the additional text data based on the ID column, giving a total of 23 columns.\n",
    "#### Dropping Unnecessary Columns:  \n",
    "Since I'm not using the purely text data, or the Post ID, I will be dropping those columns:"
   ]
  },
  {
   "cell_type": "code",
   "execution_count": 5,
   "metadata": {},
   "outputs": [],
   "source": [
    "## Dropping Columns I'm not going to use:\n",
    "q1data.drop('model', axis=1, inplace=True)\n",
    "q1data.drop('region', axis=1, inplace=True)\n",
    "q1data.drop('description', axis=1, inplace=True)\n",
    "q1data.drop('id', axis=1, inplace=True)"
   ]
  },
  {
   "cell_type": "markdown",
   "metadata": {},
   "source": [
    "#### Addressing Categorical Variables:\n",
    "Since there are text data for a lot of fields, I will be converting them to categories. RandomForestRegressor requires them to be numeric, so that's what I will do."
   ]
  },
  {
   "cell_type": "code",
   "execution_count": 6,
   "metadata": {},
   "outputs": [],
   "source": [
    "## Converting Price to Log Value of Price:\n",
    "q1data['price']=np.log(q1data['price'])\n",
    "\n",
    "## Creating new variables from date:\n",
    "add_datepart(q1data, 'posting_date')"
   ]
  },
  {
   "cell_type": "markdown",
   "metadata": {},
   "source": [
    "We converted the date into a number of related numeric variables that take into account time of year, time of month, day of week, etc.\n",
    "\n",
    "Now converting all string data to categorical Data."
   ]
  },
  {
   "cell_type": "code",
   "execution_count": 7,
   "metadata": {},
   "outputs": [],
   "source": [
    "train_cats(q1data)"
   ]
  },
  {
   "cell_type": "code",
   "execution_count": 8,
   "metadata": {},
   "outputs": [
    {
     "data": {
      "text/plain": [
       "Index(['excellent', 'fair', 'good', 'like new', 'new', 'salvage'], dtype='object')"
      ]
     },
     "execution_count": 8,
     "metadata": {},
     "output_type": "execute_result"
    }
   ],
   "source": [
    "q1data.condition.cat.categories"
   ]
  },
  {
   "cell_type": "code",
   "execution_count": 9,
   "metadata": {},
   "outputs": [
    {
     "data": {
      "text/plain": [
       "Index(['new', 'like new', 'excellent', 'fair', 'good', 'salvage'], dtype='object')"
      ]
     },
     "execution_count": 9,
     "metadata": {},
     "output_type": "execute_result"
    }
   ],
   "source": [
    "## Ordering the condition variable, since its the only categorical variable that can be ordered.\n",
    "q1data.condition.cat.set_categories(['new', 'like new', 'excellent', 'fair', 'good', 'salvage'], ordered=True, inplace=True)\n",
    "q1data.condition.cat.categories"
   ]
  },
  {
   "cell_type": "code",
   "execution_count": 10,
   "metadata": {
    "scrolled": false
   },
   "outputs": [
    {
     "data": {
      "text/plain": [
       "condition                   0.392477\n",
       "cylinders                   0.363033\n",
       "description_badcredit       0.000000\n",
       "description_credit          0.000000\n",
       "description_length          0.025997\n",
       "description_owner           0.000000\n",
       "drive                       0.283500\n",
       "fuel                        0.006437\n",
       "manufacturer                0.033483\n",
       "odometer                    0.108480\n",
       "paint_color                 0.286237\n",
       "posting_Day                 0.012677\n",
       "posting_Dayofweek           0.012677\n",
       "posting_Dayofyear           0.012677\n",
       "posting_Elapsed             0.012677\n",
       "posting_Is_month_end        0.000000\n",
       "posting_Is_month_start      0.000000\n",
       "posting_Is_quarter_end      0.000000\n",
       "posting_Is_quarter_start    0.000000\n",
       "posting_Is_year_end         0.000000\n",
       "posting_Is_year_start       0.000000\n",
       "posting_Month               0.012677\n",
       "posting_Week                0.012677\n",
       "posting_Year                0.012677\n",
       "price                       0.000000\n",
       "size                        0.700913\n",
       "state                       0.012623\n",
       "title_status                0.004660\n",
       "transmission                0.004480\n",
       "type                        0.239600\n",
       "year                        0.002080\n",
       "dtype: float64"
      ]
     },
     "metadata": {},
     "output_type": "display_data"
    }
   ],
   "source": [
    "## Checking percentage of missing data in each column:\n",
    "display_all(q1data.isnull().sum().sort_index()/len(q1data))"
   ]
  },
  {
   "cell_type": "markdown",
   "metadata": {},
   "source": [
    "### Processing Dataframe:\n",
    "\n",
    "1. Split the data into Training and Validation Data. \n",
    "2. We must replace categories with their numeric codes.\n",
    "3. Handle missing data:  \n",
    "    * Categorical: NA will be 0, other categories will be 1,2,etc. (Currently categoricals are -1 for NA)\n",
    "    * Continuous: NA will be median of the column. Another column will be created named \"ColumnName_na\", which will be boolean, 1 if NA, 0 if not.\n",
    "4. Split the dependent variable into a seperate variable.\n",
    "\n",
    "Other than the first step, the function proc_df does all these things:"
   ]
  },
  {
   "cell_type": "code",
   "execution_count": 11,
   "metadata": {},
   "outputs": [],
   "source": [
    "## Split Data into Training and Validation:\n",
    "q1_train, q1_valid = train_test_split(q1data, test_size=0.2)\n",
    "\n",
    "## Doing remaining processing:\n",
    "q1_train_x, q1_train_y = proc_df(q1_train, 'price')\n",
    "q1_valid_x, q1_valid_y = proc_df(q1_valid, 'price')"
   ]
  },
  {
   "cell_type": "code",
   "execution_count": 12,
   "metadata": {
    "scrolled": false
   },
   "outputs": [
    {
     "data": {
      "text/html": [
       "<div>\n",
       "<style scoped>\n",
       "    .dataframe tbody tr th:only-of-type {\n",
       "        vertical-align: middle;\n",
       "    }\n",
       "\n",
       "    .dataframe tbody tr th {\n",
       "        vertical-align: top;\n",
       "    }\n",
       "\n",
       "    .dataframe thead th {\n",
       "        text-align: right;\n",
       "    }\n",
       "</style>\n",
       "<table border=\"1\" class=\"dataframe\">\n",
       "  <thead>\n",
       "    <tr style=\"text-align: right;\">\n",
       "      <th></th>\n",
       "      <th>145571</th>\n",
       "      <th>25964</th>\n",
       "      <th>146496</th>\n",
       "      <th>116019</th>\n",
       "      <th>103384</th>\n",
       "      <th>284020</th>\n",
       "      <th>230978</th>\n",
       "      <th>101160</th>\n",
       "      <th>175387</th>\n",
       "      <th>50508</th>\n",
       "      <th>...</th>\n",
       "      <th>190244</th>\n",
       "      <th>256792</th>\n",
       "      <th>156337</th>\n",
       "      <th>168911</th>\n",
       "      <th>4068</th>\n",
       "      <th>282974</th>\n",
       "      <th>179690</th>\n",
       "      <th>264077</th>\n",
       "      <th>173965</th>\n",
       "      <th>77610</th>\n",
       "    </tr>\n",
       "  </thead>\n",
       "  <tbody>\n",
       "    <tr>\n",
       "      <th>year</th>\n",
       "      <td>2010</td>\n",
       "      <td>2016</td>\n",
       "      <td>2014</td>\n",
       "      <td>2013</td>\n",
       "      <td>2014</td>\n",
       "      <td>2008</td>\n",
       "      <td>2018</td>\n",
       "      <td>2018</td>\n",
       "      <td>2015</td>\n",
       "      <td>2015</td>\n",
       "      <td>...</td>\n",
       "      <td>2001</td>\n",
       "      <td>2004</td>\n",
       "      <td>2016</td>\n",
       "      <td>2011</td>\n",
       "      <td>2015</td>\n",
       "      <td>2017</td>\n",
       "      <td>2006</td>\n",
       "      <td>2011</td>\n",
       "      <td>2002</td>\n",
       "      <td>2009</td>\n",
       "    </tr>\n",
       "    <tr>\n",
       "      <th>odometer</th>\n",
       "      <td>90000</td>\n",
       "      <td>52438</td>\n",
       "      <td>114000</td>\n",
       "      <td>70110</td>\n",
       "      <td>11707</td>\n",
       "      <td>108938</td>\n",
       "      <td>18644</td>\n",
       "      <td>117212</td>\n",
       "      <td>106957</td>\n",
       "      <td>36639</td>\n",
       "      <td>...</td>\n",
       "      <td>78844</td>\n",
       "      <td>276000</td>\n",
       "      <td>90000</td>\n",
       "      <td>127722</td>\n",
       "      <td>3580</td>\n",
       "      <td>90000</td>\n",
       "      <td>90000</td>\n",
       "      <td>97000</td>\n",
       "      <td>150000</td>\n",
       "      <td>228525</td>\n",
       "    </tr>\n",
       "    <tr>\n",
       "      <th>cylinders</th>\n",
       "      <td>4</td>\n",
       "      <td>6</td>\n",
       "      <td>6</td>\n",
       "      <td>8</td>\n",
       "      <td>6</td>\n",
       "      <td>4</td>\n",
       "      <td>4</td>\n",
       "      <td>6</td>\n",
       "      <td>4</td>\n",
       "      <td>6</td>\n",
       "      <td>...</td>\n",
       "      <td>6</td>\n",
       "      <td>4</td>\n",
       "      <td>6</td>\n",
       "      <td>4</td>\n",
       "      <td>8</td>\n",
       "      <td>4</td>\n",
       "      <td>6</td>\n",
       "      <td>6</td>\n",
       "      <td>6</td>\n",
       "      <td>8</td>\n",
       "    </tr>\n",
       "    <tr>\n",
       "      <th>transmission</th>\n",
       "      <td>1</td>\n",
       "      <td>1</td>\n",
       "      <td>1</td>\n",
       "      <td>1</td>\n",
       "      <td>3</td>\n",
       "      <td>1</td>\n",
       "      <td>1</td>\n",
       "      <td>1</td>\n",
       "      <td>1</td>\n",
       "      <td>3</td>\n",
       "      <td>...</td>\n",
       "      <td>1</td>\n",
       "      <td>1</td>\n",
       "      <td>1</td>\n",
       "      <td>1</td>\n",
       "      <td>3</td>\n",
       "      <td>1</td>\n",
       "      <td>1</td>\n",
       "      <td>1</td>\n",
       "      <td>1</td>\n",
       "      <td>1</td>\n",
       "    </tr>\n",
       "    <tr>\n",
       "      <th>drive</th>\n",
       "      <td>2</td>\n",
       "      <td>0</td>\n",
       "      <td>0</td>\n",
       "      <td>1</td>\n",
       "      <td>3</td>\n",
       "      <td>2</td>\n",
       "      <td>1</td>\n",
       "      <td>0</td>\n",
       "      <td>2</td>\n",
       "      <td>2</td>\n",
       "      <td>...</td>\n",
       "      <td>2</td>\n",
       "      <td>2</td>\n",
       "      <td>0</td>\n",
       "      <td>2</td>\n",
       "      <td>3</td>\n",
       "      <td>2</td>\n",
       "      <td>0</td>\n",
       "      <td>3</td>\n",
       "      <td>3</td>\n",
       "      <td>1</td>\n",
       "    </tr>\n",
       "    <tr>\n",
       "      <th>type</th>\n",
       "      <td>0</td>\n",
       "      <td>0</td>\n",
       "      <td>13</td>\n",
       "      <td>9</td>\n",
       "      <td>8</td>\n",
       "      <td>10</td>\n",
       "      <td>1</td>\n",
       "      <td>8</td>\n",
       "      <td>10</td>\n",
       "      <td>5</td>\n",
       "      <td>...</td>\n",
       "      <td>13</td>\n",
       "      <td>10</td>\n",
       "      <td>11</td>\n",
       "      <td>12</td>\n",
       "      <td>4</td>\n",
       "      <td>10</td>\n",
       "      <td>0</td>\n",
       "      <td>10</td>\n",
       "      <td>10</td>\n",
       "      <td>11</td>\n",
       "    </tr>\n",
       "    <tr>\n",
       "      <th>paint_color</th>\n",
       "      <td>11</td>\n",
       "      <td>0</td>\n",
       "      <td>1</td>\n",
       "      <td>0</td>\n",
       "      <td>0</td>\n",
       "      <td>8</td>\n",
       "      <td>6</td>\n",
       "      <td>11</td>\n",
       "      <td>4</td>\n",
       "      <td>11</td>\n",
       "      <td>...</td>\n",
       "      <td>1</td>\n",
       "      <td>6</td>\n",
       "      <td>11</td>\n",
       "      <td>11</td>\n",
       "      <td>1</td>\n",
       "      <td>10</td>\n",
       "      <td>10</td>\n",
       "      <td>2</td>\n",
       "      <td>11</td>\n",
       "      <td>2</td>\n",
       "    </tr>\n",
       "    <tr>\n",
       "      <th>size</th>\n",
       "      <td>0</td>\n",
       "      <td>0</td>\n",
       "      <td>0</td>\n",
       "      <td>0</td>\n",
       "      <td>0</td>\n",
       "      <td>2</td>\n",
       "      <td>3</td>\n",
       "      <td>0</td>\n",
       "      <td>3</td>\n",
       "      <td>0</td>\n",
       "      <td>...</td>\n",
       "      <td>3</td>\n",
       "      <td>3</td>\n",
       "      <td>0</td>\n",
       "      <td>4</td>\n",
       "      <td>0</td>\n",
       "      <td>2</td>\n",
       "      <td>0</td>\n",
       "      <td>1</td>\n",
       "      <td>3</td>\n",
       "      <td>0</td>\n",
       "    </tr>\n",
       "    <tr>\n",
       "      <th>title_status</th>\n",
       "      <td>1</td>\n",
       "      <td>1</td>\n",
       "      <td>1</td>\n",
       "      <td>1</td>\n",
       "      <td>1</td>\n",
       "      <td>1</td>\n",
       "      <td>1</td>\n",
       "      <td>1</td>\n",
       "      <td>1</td>\n",
       "      <td>1</td>\n",
       "      <td>...</td>\n",
       "      <td>1</td>\n",
       "      <td>1</td>\n",
       "      <td>1</td>\n",
       "      <td>1</td>\n",
       "      <td>1</td>\n",
       "      <td>5</td>\n",
       "      <td>1</td>\n",
       "      <td>1</td>\n",
       "      <td>1</td>\n",
       "      <td>1</td>\n",
       "    </tr>\n",
       "    <tr>\n",
       "      <th>condition</th>\n",
       "      <td>5</td>\n",
       "      <td>0</td>\n",
       "      <td>3</td>\n",
       "      <td>5</td>\n",
       "      <td>5</td>\n",
       "      <td>5</td>\n",
       "      <td>0</td>\n",
       "      <td>0</td>\n",
       "      <td>0</td>\n",
       "      <td>5</td>\n",
       "      <td>...</td>\n",
       "      <td>5</td>\n",
       "      <td>5</td>\n",
       "      <td>5</td>\n",
       "      <td>5</td>\n",
       "      <td>5</td>\n",
       "      <td>2</td>\n",
       "      <td>0</td>\n",
       "      <td>3</td>\n",
       "      <td>4</td>\n",
       "      <td>0</td>\n",
       "    </tr>\n",
       "    <tr>\n",
       "      <th>fuel</th>\n",
       "      <td>3</td>\n",
       "      <td>3</td>\n",
       "      <td>3</td>\n",
       "      <td>3</td>\n",
       "      <td>3</td>\n",
       "      <td>3</td>\n",
       "      <td>3</td>\n",
       "      <td>3</td>\n",
       "      <td>3</td>\n",
       "      <td>3</td>\n",
       "      <td>...</td>\n",
       "      <td>3</td>\n",
       "      <td>3</td>\n",
       "      <td>1</td>\n",
       "      <td>3</td>\n",
       "      <td>3</td>\n",
       "      <td>3</td>\n",
       "      <td>3</td>\n",
       "      <td>3</td>\n",
       "      <td>3</td>\n",
       "      <td>1</td>\n",
       "    </tr>\n",
       "    <tr>\n",
       "      <th>state</th>\n",
       "      <td>21</td>\n",
       "      <td>5</td>\n",
       "      <td>5</td>\n",
       "      <td>21</td>\n",
       "      <td>44</td>\n",
       "      <td>10</td>\n",
       "      <td>6</td>\n",
       "      <td>36</td>\n",
       "      <td>44</td>\n",
       "      <td>5</td>\n",
       "      <td>...</td>\n",
       "      <td>31</td>\n",
       "      <td>28</td>\n",
       "      <td>15</td>\n",
       "      <td>35</td>\n",
       "      <td>37</td>\n",
       "      <td>17</td>\n",
       "      <td>36</td>\n",
       "      <td>2</td>\n",
       "      <td>10</td>\n",
       "      <td>27</td>\n",
       "    </tr>\n",
       "    <tr>\n",
       "      <th>manufacturer</th>\n",
       "      <td>32</td>\n",
       "      <td>32</td>\n",
       "      <td>0</td>\n",
       "      <td>40</td>\n",
       "      <td>34</td>\n",
       "      <td>27</td>\n",
       "      <td>40</td>\n",
       "      <td>8</td>\n",
       "      <td>32</td>\n",
       "      <td>30</td>\n",
       "      <td>...</td>\n",
       "      <td>0</td>\n",
       "      <td>18</td>\n",
       "      <td>42</td>\n",
       "      <td>8</td>\n",
       "      <td>11</td>\n",
       "      <td>8</td>\n",
       "      <td>11</td>\n",
       "      <td>5</td>\n",
       "      <td>5</td>\n",
       "      <td>14</td>\n",
       "    </tr>\n",
       "    <tr>\n",
       "      <th>description_length</th>\n",
       "      <td>208</td>\n",
       "      <td>92</td>\n",
       "      <td>1126</td>\n",
       "      <td>4711</td>\n",
       "      <td>4132</td>\n",
       "      <td>289</td>\n",
       "      <td>1834</td>\n",
       "      <td>1682</td>\n",
       "      <td>341</td>\n",
       "      <td>4247</td>\n",
       "      <td>...</td>\n",
       "      <td>329</td>\n",
       "      <td>349</td>\n",
       "      <td>219</td>\n",
       "      <td>243</td>\n",
       "      <td>4343</td>\n",
       "      <td>547</td>\n",
       "      <td>364</td>\n",
       "      <td>95</td>\n",
       "      <td>203</td>\n",
       "      <td>3415</td>\n",
       "    </tr>\n",
       "    <tr>\n",
       "      <th>description_credit</th>\n",
       "      <td>0</td>\n",
       "      <td>1</td>\n",
       "      <td>1</td>\n",
       "      <td>1</td>\n",
       "      <td>1</td>\n",
       "      <td>0</td>\n",
       "      <td>0</td>\n",
       "      <td>0</td>\n",
       "      <td>0</td>\n",
       "      <td>1</td>\n",
       "      <td>...</td>\n",
       "      <td>0</td>\n",
       "      <td>0</td>\n",
       "      <td>0</td>\n",
       "      <td>0</td>\n",
       "      <td>1</td>\n",
       "      <td>0</td>\n",
       "      <td>0</td>\n",
       "      <td>0</td>\n",
       "      <td>0</td>\n",
       "      <td>0</td>\n",
       "    </tr>\n",
       "    <tr>\n",
       "      <th>description_owner</th>\n",
       "      <td>0</td>\n",
       "      <td>0</td>\n",
       "      <td>0</td>\n",
       "      <td>0</td>\n",
       "      <td>0</td>\n",
       "      <td>1</td>\n",
       "      <td>0</td>\n",
       "      <td>0</td>\n",
       "      <td>0</td>\n",
       "      <td>0</td>\n",
       "      <td>...</td>\n",
       "      <td>0</td>\n",
       "      <td>0</td>\n",
       "      <td>1</td>\n",
       "      <td>0</td>\n",
       "      <td>0</td>\n",
       "      <td>0</td>\n",
       "      <td>0</td>\n",
       "      <td>0</td>\n",
       "      <td>0</td>\n",
       "      <td>0</td>\n",
       "    </tr>\n",
       "    <tr>\n",
       "      <th>description_badcredit</th>\n",
       "      <td>0</td>\n",
       "      <td>1</td>\n",
       "      <td>1</td>\n",
       "      <td>0</td>\n",
       "      <td>0</td>\n",
       "      <td>0</td>\n",
       "      <td>0</td>\n",
       "      <td>0</td>\n",
       "      <td>0</td>\n",
       "      <td>0</td>\n",
       "      <td>...</td>\n",
       "      <td>0</td>\n",
       "      <td>0</td>\n",
       "      <td>0</td>\n",
       "      <td>0</td>\n",
       "      <td>0</td>\n",
       "      <td>0</td>\n",
       "      <td>0</td>\n",
       "      <td>0</td>\n",
       "      <td>0</td>\n",
       "      <td>0</td>\n",
       "    </tr>\n",
       "    <tr>\n",
       "      <th>posting_Year</th>\n",
       "      <td>2020</td>\n",
       "      <td>2020</td>\n",
       "      <td>2020</td>\n",
       "      <td>2020</td>\n",
       "      <td>2020</td>\n",
       "      <td>2020</td>\n",
       "      <td>2020</td>\n",
       "      <td>2020</td>\n",
       "      <td>2020</td>\n",
       "      <td>2020</td>\n",
       "      <td>...</td>\n",
       "      <td>2020</td>\n",
       "      <td>2020</td>\n",
       "      <td>2020</td>\n",
       "      <td>2020</td>\n",
       "      <td>2020</td>\n",
       "      <td>2020</td>\n",
       "      <td>2020</td>\n",
       "      <td>2020</td>\n",
       "      <td>2020</td>\n",
       "      <td>2020</td>\n",
       "    </tr>\n",
       "    <tr>\n",
       "      <th>posting_Month</th>\n",
       "      <td>11</td>\n",
       "      <td>12</td>\n",
       "      <td>12</td>\n",
       "      <td>11</td>\n",
       "      <td>12</td>\n",
       "      <td>11</td>\n",
       "      <td>12</td>\n",
       "      <td>12</td>\n",
       "      <td>11</td>\n",
       "      <td>12</td>\n",
       "      <td>...</td>\n",
       "      <td>11</td>\n",
       "      <td>11</td>\n",
       "      <td>12</td>\n",
       "      <td>11</td>\n",
       "      <td>11</td>\n",
       "      <td>11</td>\n",
       "      <td>11</td>\n",
       "      <td>11</td>\n",
       "      <td>12</td>\n",
       "      <td>11</td>\n",
       "    </tr>\n",
       "    <tr>\n",
       "      <th>posting_Week</th>\n",
       "      <td>47</td>\n",
       "      <td>49</td>\n",
       "      <td>49</td>\n",
       "      <td>48</td>\n",
       "      <td>49</td>\n",
       "      <td>46</td>\n",
       "      <td>49</td>\n",
       "      <td>49</td>\n",
       "      <td>47</td>\n",
       "      <td>49</td>\n",
       "      <td>...</td>\n",
       "      <td>48</td>\n",
       "      <td>47</td>\n",
       "      <td>49</td>\n",
       "      <td>47</td>\n",
       "      <td>47</td>\n",
       "      <td>47</td>\n",
       "      <td>48</td>\n",
       "      <td>47</td>\n",
       "      <td>49</td>\n",
       "      <td>45</td>\n",
       "    </tr>\n",
       "    <tr>\n",
       "      <th>posting_Day</th>\n",
       "      <td>17</td>\n",
       "      <td>1</td>\n",
       "      <td>2</td>\n",
       "      <td>27</td>\n",
       "      <td>2</td>\n",
       "      <td>13</td>\n",
       "      <td>3</td>\n",
       "      <td>3</td>\n",
       "      <td>18</td>\n",
       "      <td>1</td>\n",
       "      <td>...</td>\n",
       "      <td>25</td>\n",
       "      <td>19</td>\n",
       "      <td>1</td>\n",
       "      <td>19</td>\n",
       "      <td>20</td>\n",
       "      <td>16</td>\n",
       "      <td>24</td>\n",
       "      <td>22</td>\n",
       "      <td>1</td>\n",
       "      <td>5</td>\n",
       "    </tr>\n",
       "    <tr>\n",
       "      <th>posting_Dayofweek</th>\n",
       "      <td>1</td>\n",
       "      <td>1</td>\n",
       "      <td>2</td>\n",
       "      <td>4</td>\n",
       "      <td>2</td>\n",
       "      <td>4</td>\n",
       "      <td>3</td>\n",
       "      <td>3</td>\n",
       "      <td>2</td>\n",
       "      <td>1</td>\n",
       "      <td>...</td>\n",
       "      <td>2</td>\n",
       "      <td>3</td>\n",
       "      <td>1</td>\n",
       "      <td>3</td>\n",
       "      <td>4</td>\n",
       "      <td>0</td>\n",
       "      <td>1</td>\n",
       "      <td>6</td>\n",
       "      <td>1</td>\n",
       "      <td>3</td>\n",
       "    </tr>\n",
       "    <tr>\n",
       "      <th>posting_Dayofyear</th>\n",
       "      <td>322</td>\n",
       "      <td>336</td>\n",
       "      <td>337</td>\n",
       "      <td>332</td>\n",
       "      <td>337</td>\n",
       "      <td>318</td>\n",
       "      <td>338</td>\n",
       "      <td>338</td>\n",
       "      <td>323</td>\n",
       "      <td>336</td>\n",
       "      <td>...</td>\n",
       "      <td>330</td>\n",
       "      <td>324</td>\n",
       "      <td>336</td>\n",
       "      <td>324</td>\n",
       "      <td>325</td>\n",
       "      <td>321</td>\n",
       "      <td>329</td>\n",
       "      <td>327</td>\n",
       "      <td>336</td>\n",
       "      <td>310</td>\n",
       "    </tr>\n",
       "    <tr>\n",
       "      <th>posting_Is_month_end</th>\n",
       "      <td>False</td>\n",
       "      <td>False</td>\n",
       "      <td>False</td>\n",
       "      <td>False</td>\n",
       "      <td>False</td>\n",
       "      <td>False</td>\n",
       "      <td>False</td>\n",
       "      <td>False</td>\n",
       "      <td>False</td>\n",
       "      <td>False</td>\n",
       "      <td>...</td>\n",
       "      <td>False</td>\n",
       "      <td>False</td>\n",
       "      <td>False</td>\n",
       "      <td>False</td>\n",
       "      <td>False</td>\n",
       "      <td>False</td>\n",
       "      <td>False</td>\n",
       "      <td>False</td>\n",
       "      <td>False</td>\n",
       "      <td>False</td>\n",
       "    </tr>\n",
       "    <tr>\n",
       "      <th>posting_Is_month_start</th>\n",
       "      <td>False</td>\n",
       "      <td>True</td>\n",
       "      <td>False</td>\n",
       "      <td>False</td>\n",
       "      <td>False</td>\n",
       "      <td>False</td>\n",
       "      <td>False</td>\n",
       "      <td>False</td>\n",
       "      <td>False</td>\n",
       "      <td>True</td>\n",
       "      <td>...</td>\n",
       "      <td>False</td>\n",
       "      <td>False</td>\n",
       "      <td>True</td>\n",
       "      <td>False</td>\n",
       "      <td>False</td>\n",
       "      <td>False</td>\n",
       "      <td>False</td>\n",
       "      <td>False</td>\n",
       "      <td>True</td>\n",
       "      <td>False</td>\n",
       "    </tr>\n",
       "    <tr>\n",
       "      <th>posting_Is_quarter_end</th>\n",
       "      <td>False</td>\n",
       "      <td>False</td>\n",
       "      <td>False</td>\n",
       "      <td>False</td>\n",
       "      <td>False</td>\n",
       "      <td>False</td>\n",
       "      <td>False</td>\n",
       "      <td>False</td>\n",
       "      <td>False</td>\n",
       "      <td>False</td>\n",
       "      <td>...</td>\n",
       "      <td>False</td>\n",
       "      <td>False</td>\n",
       "      <td>False</td>\n",
       "      <td>False</td>\n",
       "      <td>False</td>\n",
       "      <td>False</td>\n",
       "      <td>False</td>\n",
       "      <td>False</td>\n",
       "      <td>False</td>\n",
       "      <td>False</td>\n",
       "    </tr>\n",
       "    <tr>\n",
       "      <th>posting_Is_quarter_start</th>\n",
       "      <td>False</td>\n",
       "      <td>False</td>\n",
       "      <td>False</td>\n",
       "      <td>False</td>\n",
       "      <td>False</td>\n",
       "      <td>False</td>\n",
       "      <td>False</td>\n",
       "      <td>False</td>\n",
       "      <td>False</td>\n",
       "      <td>False</td>\n",
       "      <td>...</td>\n",
       "      <td>False</td>\n",
       "      <td>False</td>\n",
       "      <td>False</td>\n",
       "      <td>False</td>\n",
       "      <td>False</td>\n",
       "      <td>False</td>\n",
       "      <td>False</td>\n",
       "      <td>False</td>\n",
       "      <td>False</td>\n",
       "      <td>False</td>\n",
       "    </tr>\n",
       "    <tr>\n",
       "      <th>posting_Is_year_end</th>\n",
       "      <td>False</td>\n",
       "      <td>False</td>\n",
       "      <td>False</td>\n",
       "      <td>False</td>\n",
       "      <td>False</td>\n",
       "      <td>False</td>\n",
       "      <td>False</td>\n",
       "      <td>False</td>\n",
       "      <td>False</td>\n",
       "      <td>False</td>\n",
       "      <td>...</td>\n",
       "      <td>False</td>\n",
       "      <td>False</td>\n",
       "      <td>False</td>\n",
       "      <td>False</td>\n",
       "      <td>False</td>\n",
       "      <td>False</td>\n",
       "      <td>False</td>\n",
       "      <td>False</td>\n",
       "      <td>False</td>\n",
       "      <td>False</td>\n",
       "    </tr>\n",
       "    <tr>\n",
       "      <th>posting_Is_year_start</th>\n",
       "      <td>False</td>\n",
       "      <td>False</td>\n",
       "      <td>False</td>\n",
       "      <td>False</td>\n",
       "      <td>False</td>\n",
       "      <td>False</td>\n",
       "      <td>False</td>\n",
       "      <td>False</td>\n",
       "      <td>False</td>\n",
       "      <td>False</td>\n",
       "      <td>...</td>\n",
       "      <td>False</td>\n",
       "      <td>False</td>\n",
       "      <td>False</td>\n",
       "      <td>False</td>\n",
       "      <td>False</td>\n",
       "      <td>False</td>\n",
       "      <td>False</td>\n",
       "      <td>False</td>\n",
       "      <td>False</td>\n",
       "      <td>False</td>\n",
       "    </tr>\n",
       "    <tr>\n",
       "      <th>posting_Elapsed</th>\n",
       "      <td>25</td>\n",
       "      <td>39</td>\n",
       "      <td>40</td>\n",
       "      <td>35</td>\n",
       "      <td>40</td>\n",
       "      <td>21</td>\n",
       "      <td>41</td>\n",
       "      <td>41</td>\n",
       "      <td>26</td>\n",
       "      <td>39</td>\n",
       "      <td>...</td>\n",
       "      <td>33</td>\n",
       "      <td>27</td>\n",
       "      <td>39</td>\n",
       "      <td>27</td>\n",
       "      <td>28</td>\n",
       "      <td>24</td>\n",
       "      <td>32</td>\n",
       "      <td>30</td>\n",
       "      <td>39</td>\n",
       "      <td>13</td>\n",
       "    </tr>\n",
       "    <tr>\n",
       "      <th>year_na</th>\n",
       "      <td>False</td>\n",
       "      <td>False</td>\n",
       "      <td>False</td>\n",
       "      <td>False</td>\n",
       "      <td>False</td>\n",
       "      <td>False</td>\n",
       "      <td>False</td>\n",
       "      <td>False</td>\n",
       "      <td>False</td>\n",
       "      <td>False</td>\n",
       "      <td>...</td>\n",
       "      <td>False</td>\n",
       "      <td>False</td>\n",
       "      <td>False</td>\n",
       "      <td>False</td>\n",
       "      <td>False</td>\n",
       "      <td>False</td>\n",
       "      <td>False</td>\n",
       "      <td>False</td>\n",
       "      <td>False</td>\n",
       "      <td>False</td>\n",
       "    </tr>\n",
       "    <tr>\n",
       "      <th>odometer_na</th>\n",
       "      <td>True</td>\n",
       "      <td>False</td>\n",
       "      <td>False</td>\n",
       "      <td>False</td>\n",
       "      <td>False</td>\n",
       "      <td>False</td>\n",
       "      <td>False</td>\n",
       "      <td>False</td>\n",
       "      <td>False</td>\n",
       "      <td>False</td>\n",
       "      <td>...</td>\n",
       "      <td>False</td>\n",
       "      <td>False</td>\n",
       "      <td>True</td>\n",
       "      <td>False</td>\n",
       "      <td>False</td>\n",
       "      <td>True</td>\n",
       "      <td>True</td>\n",
       "      <td>False</td>\n",
       "      <td>False</td>\n",
       "      <td>False</td>\n",
       "    </tr>\n",
       "    <tr>\n",
       "      <th>cylinders_na</th>\n",
       "      <td>False</td>\n",
       "      <td>True</td>\n",
       "      <td>True</td>\n",
       "      <td>False</td>\n",
       "      <td>True</td>\n",
       "      <td>False</td>\n",
       "      <td>False</td>\n",
       "      <td>True</td>\n",
       "      <td>False</td>\n",
       "      <td>True</td>\n",
       "      <td>...</td>\n",
       "      <td>False</td>\n",
       "      <td>False</td>\n",
       "      <td>True</td>\n",
       "      <td>False</td>\n",
       "      <td>False</td>\n",
       "      <td>False</td>\n",
       "      <td>True</td>\n",
       "      <td>False</td>\n",
       "      <td>False</td>\n",
       "      <td>False</td>\n",
       "    </tr>\n",
       "    <tr>\n",
       "      <th>description_length_na</th>\n",
       "      <td>False</td>\n",
       "      <td>False</td>\n",
       "      <td>False</td>\n",
       "      <td>False</td>\n",
       "      <td>False</td>\n",
       "      <td>False</td>\n",
       "      <td>True</td>\n",
       "      <td>False</td>\n",
       "      <td>False</td>\n",
       "      <td>False</td>\n",
       "      <td>...</td>\n",
       "      <td>False</td>\n",
       "      <td>False</td>\n",
       "      <td>False</td>\n",
       "      <td>False</td>\n",
       "      <td>False</td>\n",
       "      <td>False</td>\n",
       "      <td>False</td>\n",
       "      <td>False</td>\n",
       "      <td>False</td>\n",
       "      <td>False</td>\n",
       "    </tr>\n",
       "    <tr>\n",
       "      <th>posting_Year_na</th>\n",
       "      <td>False</td>\n",
       "      <td>False</td>\n",
       "      <td>False</td>\n",
       "      <td>False</td>\n",
       "      <td>False</td>\n",
       "      <td>False</td>\n",
       "      <td>False</td>\n",
       "      <td>False</td>\n",
       "      <td>False</td>\n",
       "      <td>False</td>\n",
       "      <td>...</td>\n",
       "      <td>False</td>\n",
       "      <td>False</td>\n",
       "      <td>False</td>\n",
       "      <td>False</td>\n",
       "      <td>False</td>\n",
       "      <td>False</td>\n",
       "      <td>False</td>\n",
       "      <td>False</td>\n",
       "      <td>False</td>\n",
       "      <td>False</td>\n",
       "    </tr>\n",
       "    <tr>\n",
       "      <th>posting_Month_na</th>\n",
       "      <td>False</td>\n",
       "      <td>False</td>\n",
       "      <td>False</td>\n",
       "      <td>False</td>\n",
       "      <td>False</td>\n",
       "      <td>False</td>\n",
       "      <td>False</td>\n",
       "      <td>False</td>\n",
       "      <td>False</td>\n",
       "      <td>False</td>\n",
       "      <td>...</td>\n",
       "      <td>False</td>\n",
       "      <td>False</td>\n",
       "      <td>False</td>\n",
       "      <td>False</td>\n",
       "      <td>False</td>\n",
       "      <td>False</td>\n",
       "      <td>False</td>\n",
       "      <td>False</td>\n",
       "      <td>False</td>\n",
       "      <td>False</td>\n",
       "    </tr>\n",
       "    <tr>\n",
       "      <th>posting_Week_na</th>\n",
       "      <td>False</td>\n",
       "      <td>False</td>\n",
       "      <td>False</td>\n",
       "      <td>False</td>\n",
       "      <td>False</td>\n",
       "      <td>False</td>\n",
       "      <td>False</td>\n",
       "      <td>False</td>\n",
       "      <td>False</td>\n",
       "      <td>False</td>\n",
       "      <td>...</td>\n",
       "      <td>False</td>\n",
       "      <td>False</td>\n",
       "      <td>False</td>\n",
       "      <td>False</td>\n",
       "      <td>False</td>\n",
       "      <td>False</td>\n",
       "      <td>False</td>\n",
       "      <td>False</td>\n",
       "      <td>False</td>\n",
       "      <td>False</td>\n",
       "    </tr>\n",
       "    <tr>\n",
       "      <th>posting_Day_na</th>\n",
       "      <td>False</td>\n",
       "      <td>False</td>\n",
       "      <td>False</td>\n",
       "      <td>False</td>\n",
       "      <td>False</td>\n",
       "      <td>False</td>\n",
       "      <td>False</td>\n",
       "      <td>False</td>\n",
       "      <td>False</td>\n",
       "      <td>False</td>\n",
       "      <td>...</td>\n",
       "      <td>False</td>\n",
       "      <td>False</td>\n",
       "      <td>False</td>\n",
       "      <td>False</td>\n",
       "      <td>False</td>\n",
       "      <td>False</td>\n",
       "      <td>False</td>\n",
       "      <td>False</td>\n",
       "      <td>False</td>\n",
       "      <td>False</td>\n",
       "    </tr>\n",
       "    <tr>\n",
       "      <th>posting_Dayofweek_na</th>\n",
       "      <td>False</td>\n",
       "      <td>False</td>\n",
       "      <td>False</td>\n",
       "      <td>False</td>\n",
       "      <td>False</td>\n",
       "      <td>False</td>\n",
       "      <td>False</td>\n",
       "      <td>False</td>\n",
       "      <td>False</td>\n",
       "      <td>False</td>\n",
       "      <td>...</td>\n",
       "      <td>False</td>\n",
       "      <td>False</td>\n",
       "      <td>False</td>\n",
       "      <td>False</td>\n",
       "      <td>False</td>\n",
       "      <td>False</td>\n",
       "      <td>False</td>\n",
       "      <td>False</td>\n",
       "      <td>False</td>\n",
       "      <td>False</td>\n",
       "    </tr>\n",
       "    <tr>\n",
       "      <th>posting_Dayofyear_na</th>\n",
       "      <td>False</td>\n",
       "      <td>False</td>\n",
       "      <td>False</td>\n",
       "      <td>False</td>\n",
       "      <td>False</td>\n",
       "      <td>False</td>\n",
       "      <td>False</td>\n",
       "      <td>False</td>\n",
       "      <td>False</td>\n",
       "      <td>False</td>\n",
       "      <td>...</td>\n",
       "      <td>False</td>\n",
       "      <td>False</td>\n",
       "      <td>False</td>\n",
       "      <td>False</td>\n",
       "      <td>False</td>\n",
       "      <td>False</td>\n",
       "      <td>False</td>\n",
       "      <td>False</td>\n",
       "      <td>False</td>\n",
       "      <td>False</td>\n",
       "    </tr>\n",
       "    <tr>\n",
       "      <th>posting_Elapsed_na</th>\n",
       "      <td>False</td>\n",
       "      <td>False</td>\n",
       "      <td>False</td>\n",
       "      <td>False</td>\n",
       "      <td>False</td>\n",
       "      <td>False</td>\n",
       "      <td>False</td>\n",
       "      <td>False</td>\n",
       "      <td>False</td>\n",
       "      <td>False</td>\n",
       "      <td>...</td>\n",
       "      <td>False</td>\n",
       "      <td>False</td>\n",
       "      <td>False</td>\n",
       "      <td>False</td>\n",
       "      <td>False</td>\n",
       "      <td>False</td>\n",
       "      <td>False</td>\n",
       "      <td>False</td>\n",
       "      <td>False</td>\n",
       "      <td>False</td>\n",
       "    </tr>\n",
       "  </tbody>\n",
       "</table>\n",
       "<p>41 rows × 240000 columns</p>\n",
       "</div>"
      ],
      "text/plain": [
       "                         145571 25964   146496 116019 103384  284020 230978  \\\n",
       "year                       2010   2016    2014   2013   2014    2008   2018   \n",
       "odometer                  90000  52438  114000  70110  11707  108938  18644   \n",
       "cylinders                     4      6       6      8      6       4      4   \n",
       "transmission                  1      1       1      1      3       1      1   \n",
       "drive                         2      0       0      1      3       2      1   \n",
       "type                          0      0      13      9      8      10      1   \n",
       "paint_color                  11      0       1      0      0       8      6   \n",
       "size                          0      0       0      0      0       2      3   \n",
       "title_status                  1      1       1      1      1       1      1   \n",
       "condition                     5      0       3      5      5       5      0   \n",
       "fuel                          3      3       3      3      3       3      3   \n",
       "state                        21      5       5     21     44      10      6   \n",
       "manufacturer                 32     32       0     40     34      27     40   \n",
       "description_length          208     92    1126   4711   4132     289   1834   \n",
       "description_credit            0      1       1      1      1       0      0   \n",
       "description_owner             0      0       0      0      0       1      0   \n",
       "description_badcredit         0      1       1      0      0       0      0   \n",
       "posting_Year               2020   2020    2020   2020   2020    2020   2020   \n",
       "posting_Month                11     12      12     11     12      11     12   \n",
       "posting_Week                 47     49      49     48     49      46     49   \n",
       "posting_Day                  17      1       2     27      2      13      3   \n",
       "posting_Dayofweek             1      1       2      4      2       4      3   \n",
       "posting_Dayofyear           322    336     337    332    337     318    338   \n",
       "posting_Is_month_end      False  False   False  False  False   False  False   \n",
       "posting_Is_month_start    False   True   False  False  False   False  False   \n",
       "posting_Is_quarter_end    False  False   False  False  False   False  False   \n",
       "posting_Is_quarter_start  False  False   False  False  False   False  False   \n",
       "posting_Is_year_end       False  False   False  False  False   False  False   \n",
       "posting_Is_year_start     False  False   False  False  False   False  False   \n",
       "posting_Elapsed              25     39      40     35     40      21     41   \n",
       "year_na                   False  False   False  False  False   False  False   \n",
       "odometer_na                True  False   False  False  False   False  False   \n",
       "cylinders_na              False   True    True  False   True   False  False   \n",
       "description_length_na     False  False   False  False  False   False   True   \n",
       "posting_Year_na           False  False   False  False  False   False  False   \n",
       "posting_Month_na          False  False   False  False  False   False  False   \n",
       "posting_Week_na           False  False   False  False  False   False  False   \n",
       "posting_Day_na            False  False   False  False  False   False  False   \n",
       "posting_Dayofweek_na      False  False   False  False  False   False  False   \n",
       "posting_Dayofyear_na      False  False   False  False  False   False  False   \n",
       "posting_Elapsed_na        False  False   False  False  False   False  False   \n",
       "\n",
       "                          101160  175387 50508    ...   190244  256792 156337  \\\n",
       "year                        2018    2015   2015   ...     2001    2004   2016   \n",
       "odometer                  117212  106957  36639   ...    78844  276000  90000   \n",
       "cylinders                      6       4      6   ...        6       4      6   \n",
       "transmission                   1       1      3   ...        1       1      1   \n",
       "drive                          0       2      2   ...        2       2      0   \n",
       "type                           8      10      5   ...       13      10     11   \n",
       "paint_color                   11       4     11   ...        1       6     11   \n",
       "size                           0       3      0   ...        3       3      0   \n",
       "title_status                   1       1      1   ...        1       1      1   \n",
       "condition                      0       0      5   ...        5       5      5   \n",
       "fuel                           3       3      3   ...        3       3      1   \n",
       "state                         36      44      5   ...       31      28     15   \n",
       "manufacturer                   8      32     30   ...        0      18     42   \n",
       "description_length          1682     341   4247   ...      329     349    219   \n",
       "description_credit             0       0      1   ...        0       0      0   \n",
       "description_owner              0       0      0   ...        0       0      1   \n",
       "description_badcredit          0       0      0   ...        0       0      0   \n",
       "posting_Year                2020    2020   2020   ...     2020    2020   2020   \n",
       "posting_Month                 12      11     12   ...       11      11     12   \n",
       "posting_Week                  49      47     49   ...       48      47     49   \n",
       "posting_Day                    3      18      1   ...       25      19      1   \n",
       "posting_Dayofweek              3       2      1   ...        2       3      1   \n",
       "posting_Dayofyear            338     323    336   ...      330     324    336   \n",
       "posting_Is_month_end       False   False  False   ...    False   False  False   \n",
       "posting_Is_month_start     False   False   True   ...    False   False   True   \n",
       "posting_Is_quarter_end     False   False  False   ...    False   False  False   \n",
       "posting_Is_quarter_start   False   False  False   ...    False   False  False   \n",
       "posting_Is_year_end        False   False  False   ...    False   False  False   \n",
       "posting_Is_year_start      False   False  False   ...    False   False  False   \n",
       "posting_Elapsed               41      26     39   ...       33      27     39   \n",
       "year_na                    False   False  False   ...    False   False  False   \n",
       "odometer_na                False   False  False   ...    False   False   True   \n",
       "cylinders_na                True   False   True   ...    False   False   True   \n",
       "description_length_na      False   False  False   ...    False   False  False   \n",
       "posting_Year_na            False   False  False   ...    False   False  False   \n",
       "posting_Month_na           False   False  False   ...    False   False  False   \n",
       "posting_Week_na            False   False  False   ...    False   False  False   \n",
       "posting_Day_na             False   False  False   ...    False   False  False   \n",
       "posting_Dayofweek_na       False   False  False   ...    False   False  False   \n",
       "posting_Dayofyear_na       False   False  False   ...    False   False  False   \n",
       "posting_Elapsed_na         False   False  False   ...    False   False  False   \n",
       "\n",
       "                          168911 4068   282974 179690 264077  173965  77610   \n",
       "year                        2011   2015   2017   2006   2011    2002    2009  \n",
       "odometer                  127722   3580  90000  90000  97000  150000  228525  \n",
       "cylinders                      4      8      4      6      6       6       8  \n",
       "transmission                   1      3      1      1      1       1       1  \n",
       "drive                          2      3      2      0      3       3       1  \n",
       "type                          12      4     10      0     10      10      11  \n",
       "paint_color                   11      1     10     10      2      11       2  \n",
       "size                           4      0      2      0      1       3       0  \n",
       "title_status                   1      1      5      1      1       1       1  \n",
       "condition                      5      5      2      0      3       4       0  \n",
       "fuel                           3      3      3      3      3       3       1  \n",
       "state                         35     37     17     36      2      10      27  \n",
       "manufacturer                   8     11      8     11      5       5      14  \n",
       "description_length           243   4343    547    364     95     203    3415  \n",
       "description_credit             0      1      0      0      0       0       0  \n",
       "description_owner              0      0      0      0      0       0       0  \n",
       "description_badcredit          0      0      0      0      0       0       0  \n",
       "posting_Year                2020   2020   2020   2020   2020    2020    2020  \n",
       "posting_Month                 11     11     11     11     11      12      11  \n",
       "posting_Week                  47     47     47     48     47      49      45  \n",
       "posting_Day                   19     20     16     24     22       1       5  \n",
       "posting_Dayofweek              3      4      0      1      6       1       3  \n",
       "posting_Dayofyear            324    325    321    329    327     336     310  \n",
       "posting_Is_month_end       False  False  False  False  False   False   False  \n",
       "posting_Is_month_start     False  False  False  False  False    True   False  \n",
       "posting_Is_quarter_end     False  False  False  False  False   False   False  \n",
       "posting_Is_quarter_start   False  False  False  False  False   False   False  \n",
       "posting_Is_year_end        False  False  False  False  False   False   False  \n",
       "posting_Is_year_start      False  False  False  False  False   False   False  \n",
       "posting_Elapsed               27     28     24     32     30      39      13  \n",
       "year_na                    False  False  False  False  False   False   False  \n",
       "odometer_na                False  False   True   True  False   False   False  \n",
       "cylinders_na               False  False  False   True  False   False   False  \n",
       "description_length_na      False  False  False  False  False   False   False  \n",
       "posting_Year_na            False  False  False  False  False   False   False  \n",
       "posting_Month_na           False  False  False  False  False   False   False  \n",
       "posting_Week_na            False  False  False  False  False   False   False  \n",
       "posting_Day_na             False  False  False  False  False   False   False  \n",
       "posting_Dayofweek_na       False  False  False  False  False   False   False  \n",
       "posting_Dayofyear_na       False  False  False  False  False   False   False  \n",
       "posting_Elapsed_na         False  False  False  False  False   False   False  \n",
       "\n",
       "[41 rows x 240000 columns]"
      ]
     },
     "execution_count": 12,
     "metadata": {},
     "output_type": "execute_result"
    }
   ],
   "source": [
    "q1_train_x.T"
   ]
  },
  {
   "cell_type": "markdown",
   "metadata": {},
   "source": [
    "As we can see, all the data is now numeric! Its ready for Training:\n",
    "\n",
    "### Tuning Model:\n",
    "#### Basic, Untuned Forest:"
   ]
  },
  {
   "cell_type": "code",
   "execution_count": 13,
   "metadata": {
    "scrolled": true
   },
   "outputs": [
    {
     "name": "stdout",
     "output_type": "stream",
     "text": [
      "MSE - Train, MSE - Valid, R2 - Train, R2 - Valid:\n",
      "(0.012085009182457149, 0.07994308392379729, 0.9797189734567184, 0.8653475639210448)\n"
     ]
    }
   ],
   "source": [
    "n = RandomForestRegressor(n_estimators=40, n_jobs=-1)\n",
    "n.fit(q1_train_x,q1_train_y)\n",
    "res = mse(q1_train_y, n.predict(q1_train_x)), mse(q1_valid_y, n.predict(q1_valid_x)), n.score(q1_train_x,q1_train_y), n.score(q1_valid_x,q1_valid_y)\n",
    "print(\"MSE - Train, MSE - Valid, R2 - Train, R2 - Valid:\")\n",
    "print(res)"
   ]
  },
  {
   "cell_type": "markdown",
   "metadata": {},
   "source": [
    "#### 1. Number of Trees:  \n",
    "Visualizing the effect of adding more trees, so we know if adding trees is helping, if we need to add more trees, etc:"
   ]
  },
  {
   "cell_type": "code",
   "execution_count": 14,
   "metadata": {},
   "outputs": [
    {
     "data": {
      "text/plain": [
       "(40, 60000)"
      ]
     },
     "execution_count": 14,
     "metadata": {},
     "output_type": "execute_result"
    }
   ],
   "source": [
    "preds = np.stack([t.predict(q1_valid_x) for t in n.estimators_])\n",
    "preds.shape"
   ]
  },
  {
   "cell_type": "code",
   "execution_count": 15,
   "metadata": {},
   "outputs": [
    {
     "data": {
      "image/png": "[encoded data removed]",
      "text/plain": [
       "<Figure size 432x288 with 1 Axes>"
      ]
     },
     "metadata": {
      "needs_background": "light"
     },
     "output_type": "display_data"
    }
   ],
   "source": [
    "plt.plot([r2_score(q1_valid_y, np.mean(preds[:i+1], axis=0)) for i in range(40)]);"
   ]
  },
  {
   "cell_type": "markdown",
   "metadata": {},
   "source": [
    "While there are improvements, there are definitely diminishing returns. Perhaps once other tuning parameters are determined, I will run with a large number of trees and leave it overnight.  \n",
    "\n",
    "#### 2. Minimum Samples Leaves:\n",
    "Checking the effects of min_samples_leaf on resulting R2. For easier computing, using only 10 trees."
   ]
  },
  {
   "cell_type": "code",
   "execution_count": 16,
   "metadata": {},
   "outputs": [
    {
     "data": {
      "text/plain": [
       "[<matplotlib.lines.Line2D at 0x1ee74fdbda0>]"
      ]
     },
     "execution_count": 16,
     "metadata": {},
     "output_type": "execute_result"
    },
    {
     "data": {
      "image/png": "[encoded data removed]",
      "text/plain": [
       "<Figure size 432x288 with 1 Axes>"
      ]
     },
     "metadata": {
      "needs_background": "light"
     },
     "output_type": "display_data"
    }
   ],
   "source": [
    "leaves = [1,2,3,4,5,6,7,8,9,10,15,20]\n",
    "score = [0,0,0,0,0,0,0,0,0,0,0,0]\n",
    "\n",
    "temp_score = [0,0,0,0,0]\n",
    "\n",
    "for i in range(12):\n",
    "    for j in range(5):\n",
    "        n = RandomForestRegressor(n_estimators=10, min_samples_leaf=leaves[i], n_jobs=-1)\n",
    "        n.fit(q1_train_x,q1_train_y)\n",
    "        temp_score[j] = n.score(q1_valid_x,q1_valid_y)\n",
    "    score[i] = np.mean(temp_score)\n",
    "\n",
    "plt.plot(leaves,score)"
   ]
  },
  {
   "cell_type": "markdown",
   "metadata": {},
   "source": [
    "As we can see above, the best score is at **min_samples_leaf = 1**, after which the R2 declines steeply.\n",
    "\n",
    "#### 3. Max Features:\n",
    "With this feature, we can get it to choose from a different set of columns with every split. Let's see if it has any effect on validation R2."
   ]
  },
  {
   "cell_type": "code",
   "execution_count": 17,
   "metadata": {},
   "outputs": [
    {
     "data": {
      "text/plain": [
       "[<matplotlib.lines.Line2D at 0x1ee76f48400>]"
      ]
     },
     "execution_count": 17,
     "metadata": {},
     "output_type": "execute_result"
    },
    {
     "data": {
      "image/png": "[encoded data removed]",
      "text/plain": [
       "<Figure size 432x288 with 1 Axes>"
      ]
     },
     "metadata": {
      "needs_background": "light"
     },
     "output_type": "display_data"
    }
   ],
   "source": [
    "feats = [0.9, 0.8, 0.75, 0.7, 0.65, 0.6, 0.5]\n",
    "score = [0,0,0,0,0,0,0]\n",
    "temp_score = [0,0,0,0,0]\n",
    "\n",
    "for i in range(7):\n",
    "    for j in range(5):\n",
    "        n = RandomForestRegressor(n_estimators=10, min_samples_leaf=1, max_features=feats[i], n_jobs=-1)\n",
    "        n.fit(q1_train_x,q1_train_y)\n",
    "        temp_score[j] = n.score(q1_valid_x,q1_valid_y)\n",
    "    score[i] = np.mean(temp_score)\n",
    "\n",
    "plt.plot(feats,score)"
   ]
  },
  {
   "cell_type": "markdown",
   "metadata": {},
   "source": [
    "I have done this many times and every time I get a different answer. I believe its because of a different type of subset of the data resulting in a completely different result. So I have created an averaging system, where each iteration is tried five times. Its still a strange graph, but the final best result is **max_features=0.8**."
   ]
  },
  {
   "cell_type": "code",
   "execution_count": 21,
   "metadata": {},
   "outputs": [
    {
     "name": "stdout",
     "output_type": "stream",
     "text": [
      "MSE - Train, MSE - Valid, R2 - Train, R2 - Valid:\n",
      "(0.011959116558077368, 0.07924596600895752, 0.9799302460853199, 0.866521757120258)\n"
     ]
    }
   ],
   "source": [
    "n = RandomForestRegressor(n_estimators=40, min_samples_leaf=1, max_features=0.8, n_jobs=-1)\n",
    "n.fit(q1_train_x,q1_train_y)\n",
    "res = mse(q1_train_y, n.predict(q1_train_x)), mse(q1_valid_y, n.predict(q1_valid_x)), n.score(q1_train_x,q1_train_y), n.score(q1_valid_x,q1_valid_y)\n",
    "print(\"MSE - Train, MSE - Valid, R2 - Train, R2 - Valid:\")\n",
    "print(res)"
   ]
  },
  {
   "cell_type": "markdown",
   "metadata": {},
   "source": [
    "So we have now been able to produce a well tuned model with a high R2:\n",
    "\n",
    "### Final Model:\n",
    "Since we know more trees will give us a better result, I will be using 500 trees for this last model."
   ]
  },
  {
   "cell_type": "code",
   "execution_count": 22,
   "metadata": {},
   "outputs": [
    {
     "name": "stdout",
     "output_type": "stream",
     "text": [
      "MSE - Train, MSE - Valid, R2 - Train, R2 - Valid:\n",
      "(0.010627783543934113, 0.07682648767173257, 0.9821644851984337, 0.8705970146179315)\n"
     ]
    }
   ],
   "source": [
    "n = RandomForestRegressor(n_estimators=500, min_samples_leaf=1, max_features=0.8, n_jobs=-1)\n",
    "n.fit(q1_train_x,q1_train_y)\n",
    "res = mse(q1_train_y, n.predict(q1_train_x)), mse(q1_valid_y, n.predict(q1_valid_x)), n.score(q1_train_x,q1_train_y), n.score(q1_valid_x,q1_valid_y)\n",
    "print(\"MSE - Train, MSE - Valid, R2 - Train, R2 - Valid:\")\n",
    "print(res)"
   ]
  },
  {
   "cell_type": "markdown",
   "metadata": {},
   "source": [
    "Here are the **final results**:\n",
    "* MSE = 0.07738\n",
    "* R2 = 87.36%\n",
    "\n",
    "### Feature Importance:\n",
    "I will use a rather crude method to determine feature importance. I will redo this regression, but a single tree with a max depth of 3, so it is a managable tree to display. Looking at this tree should show us the features that were most important to our prediction."
   ]
  },
  {
   "cell_type": "code",
   "execution_count": 34,
   "metadata": {},
   "outputs": [],
   "source": [
    "# Limit depth of tree to 3 levels\n",
    "rf_small = RandomForestRegressor(n_estimators=10, max_depth = 3, bootstrap=False, n_jobs=-1)\n",
    "rf_small.fit(q1_train_x,q1_train_y)\n",
    "# Extract the small tree\n",
    "tree_small = rf_small.estimators_[5]\n",
    "# Creating list of features\n",
    "feature_list = list(q1_train_x.columns)\n",
    "\n",
    "# Save the tree as a png image\n",
    "export_graphviz(tree_small, out_file = 'small_tree.dot', feature_names = feature_list, rounded = True, precision = 1)\n",
    "\n",
    "(graph, ) = pydot.graph_from_dot_file('small_tree.dot')\n",
    "\n",
    "graph.write_png('small_tree.png');"
   ]
  },
  {
   "cell_type": "code",
   "execution_count": 35,
   "metadata": {},
   "outputs": [
    {
     "data": {
      "image/png": "[encoded data removed]",
      "text/plain": [
       "<IPython.core.display.Image object>"
      ]
     },
     "execution_count": 35,
     "metadata": {},
     "output_type": "execute_result"
    }
   ],
   "source": [
    "# Displaying this exported image:\n",
    "Image('small_tree.png')"
   ]
  },
  {
   "cell_type": "markdown",
   "metadata": {},
   "source": [
    "As we see here, the single most important variable is the year the car is from. After that, if it is newer than 2011, its odometer reading matters most, versus if its older, its description legnth matters the most. If its newer than 2011, after mileage, its number of cylinders matters most, versus otherwise, its fuel type matters most.\n",
    "\n",
    "### Test Accuracy:\n",
    "Processing the Test Data in the same way as Training Data:"
   ]
  },
  {
   "cell_type": "code",
   "execution_count": 23,
   "metadata": {},
   "outputs": [],
   "source": [
    "## Importing data:\n",
    "large_test = pd.read_csv('final_predcomp_test_data.csv',low_memory=False)\n",
    "## Since I plan to use dates extensively, ensuring parse_dates is mentioned:\n",
    "text_test = pd.read_csv('final_predcomp_test_data_additional_text_variables.csv',low_memory=False,\n",
    "                       parse_dates=[\"posting_date\"])\n",
    "# Left Outer Merge:\n",
    "testdata = large_test.merge(text_test, on='id', how='left')\n",
    "\n",
    "## Dropping Columns I'm not going to use:\n",
    "testdata.drop('model', axis=1, inplace=True)\n",
    "testdata.drop('region', axis=1, inplace=True)\n",
    "testdata.drop('description', axis=1, inplace=True)\n",
    "testdata.drop('id', axis=1, inplace=True)\n",
    "\n",
    "## Converting Price to Log Value of Price:\n",
    "testdata['price']=np.log(testdata['price'])\n",
    "\n",
    "## Creating new variables from date:\n",
    "add_datepart(testdata, 'posting_date')"
   ]
  },
  {
   "cell_type": "markdown",
   "metadata": {},
   "source": [
    "Now we use the apply_cats function to apply the same categories as our q1data to our testdata. Without this the results will mean nothing."
   ]
  },
  {
   "cell_type": "code",
   "execution_count": 24,
   "metadata": {},
   "outputs": [],
   "source": [
    "## Ensuring same categories:\n",
    "apply_cats(testdata, q1data)\n",
    "\n",
    "## Applying final processing using proc_df:\n",
    "q1test_x, q1test_y = proc_df(testdata, 'price')"
   ]
  },
  {
   "cell_type": "markdown",
   "metadata": {},
   "source": [
    "Predicting Results of our model on test data:"
   ]
  },
  {
   "cell_type": "code",
   "execution_count": 25,
   "metadata": {},
   "outputs": [
    {
     "name": "stdout",
     "output_type": "stream",
     "text": [
      "MSE - Test, R2 - Test:\n",
      "(0.08049028489142286, 0.8653861479283214)\n"
     ]
    }
   ],
   "source": [
    "res = mse(q1test_y, n.predict(q1test_x)), n.score(q1test_x,q1test_y)\n",
    "print(\"MSE - Test, R2 - Test:\")\n",
    "print(res)"
   ]
  },
  {
   "cell_type": "markdown",
   "metadata": {},
   "source": [
    "### Test Results:\n",
    "* MSE - 0.08049\n",
    "* R2 - 86.54%\n",
    "\n",
    "## Question 2  \n",
    "**Goal:** Create an algorithm that predicts whether car price is less than $10,000.  \n",
    "**Data:** Craigslist car listings data downloaded from Kaggle. Using \"large\" dataset provided, merged with \"additional text\" for each entry - 300,000 observations.  \n",
    "**Testing Data:** 30,000 observations from the same source, additional text merged.  \n",
    "\n",
    "### Processing Data:\n",
    "Doing the same processes as Q1, with the exception of handling Price. Price will be made into a binary variable."
   ]
  },
  {
   "cell_type": "code",
   "execution_count": 6,
   "metadata": {},
   "outputs": [],
   "source": [
    "## Merging datasources based on their ID column:\n",
    "# Left Outer Merge:\n",
    "q2data = large_data.merge(text_data, on='id', how='left')\n",
    "\n",
    "## Dropping Columns I'm not going to use:\n",
    "q2data.drop('model', axis=1, inplace=True)\n",
    "q2data.drop('region', axis=1, inplace=True)\n",
    "q2data.drop('description', axis=1, inplace=True)\n",
    "q2data.drop('id', axis=1, inplace=True)\n",
    "\n",
    "## Converting Price to Binary Variable for Price >$10,000:\n",
    "q2data['price'].values[q2data['price'] < 10000] = 0\n",
    "q2data['price'].values[q2data['price'] >= 10000] = 1\n",
    "q2data['price'] = q2data['price'].astype(bool)\n",
    "\n",
    "## Creating new variables from date:\n",
    "add_datepart(q2data, 'posting_date')"
   ]
  },
  {
   "cell_type": "code",
   "execution_count": 7,
   "metadata": {},
   "outputs": [
    {
     "data": {
      "text/plain": [
       "Index(['new', 'like new', 'excellent', 'fair', 'good', 'salvage'], dtype='object')"
      ]
     },
     "execution_count": 7,
     "metadata": {},
     "output_type": "execute_result"
    }
   ],
   "source": [
    "train_cats(q2data)\n",
    "\n",
    "## Ordering the condition variable, since its the only categorical variable that can be ordered.\n",
    "q2data.condition.cat.set_categories(['new', 'like new', 'excellent', 'fair', 'good', 'salvage'], ordered=True, inplace=True)\n",
    "q2data.condition.cat.categories"
   ]
  },
  {
   "cell_type": "markdown",
   "metadata": {},
   "source": [
    "Remaining Steps:\n",
    "1. Split the data into Training and Validation Data. \n",
    "2. We must replace categories with their numeric codes.\n",
    "3. Handle missing data:  \n",
    "    * Categorical: NA will be 0, other categories will be 1,2,etc. (Currently categoricals are -1 for NA)\n",
    "    * Continuous: NA will be median of the column. Another column will be created named \"ColumnName_na\", which will be boolean, 1 if NA, 0 if not.\n",
    "4. Split the dependent variable into a seperate variable.\n",
    "\n",
    "Other than the first step, the function proc_df does all these things:"
   ]
  },
  {
   "cell_type": "code",
   "execution_count": 8,
   "metadata": {},
   "outputs": [],
   "source": [
    "## Split Data into Training and Validation:\n",
    "q2_train, q2_valid = train_test_split(q2data, test_size=0.2)\n",
    "\n",
    "## Doing remaining processing:\n",
    "q2_train_x, q2_train_y = proc_df(q2_train, 'price')\n",
    "q2_valid_x, q2_valid_y = proc_df(q2_valid, 'price')"
   ]
  },
  {
   "cell_type": "code",
   "execution_count": 9,
   "metadata": {},
   "outputs": [
    {
     "data": {
      "text/plain": [
       "Index(['year', 'odometer', 'cylinders', 'transmission', 'drive', 'type',\n",
       "       'paint_color', 'size', 'title_status', 'condition', 'fuel', 'state',\n",
       "       'manufacturer', 'description_length', 'description_credit',\n",
       "       'description_owner', 'description_badcredit', 'posting_Year',\n",
       "       'posting_Month', 'posting_Week', 'posting_Day', 'posting_Dayofweek',\n",
       "       'posting_Dayofyear', 'posting_Is_month_end', 'posting_Is_month_start',\n",
       "       'posting_Is_quarter_end', 'posting_Is_quarter_start',\n",
       "       'posting_Is_year_end', 'posting_Is_year_start', 'posting_Elapsed',\n",
       "       'year_na', 'odometer_na', 'cylinders_na', 'description_length_na',\n",
       "       'posting_Year_na', 'posting_Month_na', 'posting_Week_na',\n",
       "       'posting_Day_na', 'posting_Dayofweek_na', 'posting_Dayofyear_na',\n",
       "       'posting_Elapsed_na'],\n",
       "      dtype='object')"
      ]
     },
     "execution_count": 9,
     "metadata": {},
     "output_type": "execute_result"
    }
   ],
   "source": [
    "## List of the columns in the data:\n",
    "q2_train_x.columns"
   ]
  },
  {
   "cell_type": "markdown",
   "metadata": {},
   "source": [
    "### Tuning Model:\n",
    "\n",
    "#### Untuned Regression Forest Classifier:\n"
   ]
  },
  {
   "cell_type": "code",
   "execution_count": 10,
   "metadata": {},
   "outputs": [
    {
     "name": "stdout",
     "output_type": "stream",
     "text": [
      "Percent Accuracy - Train, Percent Accuracy - Valid:\n",
      "(0.999825, 0.9177833333333333)\n"
     ]
    }
   ],
   "source": [
    "m = RandomForestClassifier(n_estimators=40, n_jobs=-1)\n",
    "m.fit(q2_train_x,q2_train_y)\n",
    "res = accuracy_score(q2_train_y, m.predict(q2_train_x)), accuracy_score(q2_valid_y, m.predict(q2_valid_x))\n",
    "print(\"Percent Accuracy - Train, Percent Accuracy - Valid:\")\n",
    "print(res)"
   ]
  },
  {
   "cell_type": "markdown",
   "metadata": {},
   "source": [
    "#### 1. Determining Number of Trees:"
   ]
  },
  {
   "cell_type": "code",
   "execution_count": 11,
   "metadata": {},
   "outputs": [
    {
     "data": {
      "image/png": "[encoded data removed]",
      "text/plain": [
       "<Figure size 432x288 with 1 Axes>"
      ]
     },
     "metadata": {
      "needs_background": "light"
     },
     "output_type": "display_data"
    }
   ],
   "source": [
    "preds = np.stack([t.predict(q2_valid_x) for t in m.estimators_])\n",
    "plt.plot([r2_score(q2_valid_y, np.mean(preds[:i+1], axis=0)) for i in range(40)]);"
   ]
  },
  {
   "cell_type": "markdown",
   "metadata": {},
   "source": [
    "As expected, increasing number of trees increases accuracy. Lets move on to Minimum Sample Leaves:\n",
    "\n",
    "#### 2. Minimum Samples Leaves:\n",
    "Checking the effects of min_samples_leaf on resulting Percentage Accuracy. For easier computing, using only 10 trees."
   ]
  },
  {
   "cell_type": "code",
   "execution_count": 12,
   "metadata": {},
   "outputs": [
    {
     "data": {
      "text/plain": [
       "[<matplotlib.lines.Line2D at 0x14ab20225f8>]"
      ]
     },
     "execution_count": 12,
     "metadata": {},
     "output_type": "execute_result"
    },
    {
     "data": {
      "image/png": "[encoded data removed]",
      "text/plain": [
       "<Figure size 432x288 with 1 Axes>"
      ]
     },
     "metadata": {
      "needs_background": "light"
     },
     "output_type": "display_data"
    }
   ],
   "source": [
    "leaves = [1,2,3,4,5,6,7,8,9,10,15,20]\n",
    "score = [0,0,0,0,0,0,0,0,0,0,0,0]\n",
    "\n",
    "temp_score = [0,0,0,0,0]\n",
    "\n",
    "for i in range(12):\n",
    "    for j in range(5):\n",
    "        m = RandomForestClassifier(n_estimators=10, min_samples_leaf=leaves[i], n_jobs=-1)\n",
    "        m.fit(q2_train_x,q2_train_y)\n",
    "        temp_score[j] = accuracy_score(q2_valid_y, m.predict(q2_valid_x))\n",
    "    score[i] = np.mean(temp_score)\n",
    "\n",
    "plt.plot(leaves,score)"
   ]
  },
  {
   "cell_type": "markdown",
   "metadata": {},
   "source": [
    "Similar result as before.\n",
    "\n",
    "#### 3. Max Features:"
   ]
  },
  {
   "cell_type": "code",
   "execution_count": 13,
   "metadata": {},
   "outputs": [
    {
     "data": {
      "text/plain": [
       "[<matplotlib.lines.Line2D at 0x14ab58f4208>]"
      ]
     },
     "execution_count": 13,
     "metadata": {},
     "output_type": "execute_result"
    },
    {
     "data": {
      "image/png": "[encoded data removed]",
      "text/plain": [
       "<Figure size 432x288 with 1 Axes>"
      ]
     },
     "metadata": {
      "needs_background": "light"
     },
     "output_type": "display_data"
    }
   ],
   "source": [
    "feats = [0.5, 0.6, 0.65, 0.7, 0.75, 0.8, 0.85, 0.9, 0.95]\n",
    "score = [0,0,0,0,0,0,0,0,0]\n",
    "temp_score = [0,0,0,0,0]\n",
    "\n",
    "for i in range(9):\n",
    "    for j in range(5):\n",
    "        m = RandomForestClassifier(n_estimators=10, min_samples_leaf=1, max_features=feats[i], n_jobs=-1)\n",
    "        m.fit(q2_train_x,q2_train_y)\n",
    "        temp_score[j] = accuracy_score(q2_valid_y, m.predict(q2_valid_x))\n",
    "    score[i] = np.mean(temp_score)\n",
    "\n",
    "plt.plot(feats,score)"
   ]
  },
  {
   "cell_type": "markdown",
   "metadata": {},
   "source": [
    "Again this gives a strange graph, that is different every time. There is always a peak at 0.7 or 0.9 though, so I will use **max_features=0.7** since its highest on this graph"
   ]
  },
  {
   "cell_type": "code",
   "execution_count": 14,
   "metadata": {},
   "outputs": [
    {
     "name": "stdout",
     "output_type": "stream",
     "text": [
      "Percent Accuracy - Train, Percent Accuracy - Valid:\n",
      "(0.9996333333333334, 0.9248)\n"
     ]
    }
   ],
   "source": [
    "m = RandomForestClassifier(n_estimators=40,  min_samples_leaf=1, max_features=0.7, n_jobs=-1)\n",
    "m.fit(q2_train_x,q2_train_y)\n",
    "res = accuracy_score(q2_train_y, m.predict(q2_train_x)), accuracy_score(q2_valid_y, m.predict(q2_valid_x))\n",
    "print(\"Percent Accuracy - Train, Percent Accuracy - Valid:\")\n",
    "print(res)"
   ]
  },
  {
   "cell_type": "markdown",
   "metadata": {},
   "source": [
    "### Final Model:\n",
    "Now that we have tuned our model, I will run the final model with a high number of trees:"
   ]
  },
  {
   "cell_type": "code",
   "execution_count": 15,
   "metadata": {},
   "outputs": [
    {
     "name": "stdout",
     "output_type": "stream",
     "text": [
      "Percent Accuracy - Train, Percent Accuracy - Valid:\n",
      "(0.999975, 0.9262)\n"
     ]
    }
   ],
   "source": [
    "m = RandomForestClassifier(n_estimators=500,  min_samples_leaf=1, max_features=0.7, n_jobs=-1)\n",
    "m.fit(q2_train_x,q2_train_y)\n",
    "res = accuracy_score(q2_train_y, m.predict(q2_train_x)), accuracy_score(q2_valid_y, m.predict(q2_valid_x))\n",
    "print(\"Percent Accuracy - Train, Percent Accuracy - Valid:\")\n",
    "print(res)"
   ]
  },
  {
   "cell_type": "markdown",
   "metadata": {},
   "source": [
    "Here are the **final results**:\n",
    "* Percentage Accuracy = 92.81%\n",
    "\n",
    "### Feature Importance:\n",
    "As in Q1, I will redo this regression, but a single tree with a max depth of 3, so it is a managable tree to display. Looking at this tree should show us the features that were most important to our prediction."
   ]
  },
  {
   "cell_type": "code",
   "execution_count": 77,
   "metadata": {},
   "outputs": [],
   "source": [
    "# Limit depth of tree to 3 levels\n",
    "rf_small = RandomForestClassifier(n_estimators=10, max_depth = 3, bootstrap=False, n_jobs=-1)\n",
    "rf_small.fit(q2_train_x,q2_train_y)\n",
    "# Extract the small tree\n",
    "tree_small = rf_small.estimators_[5]\n",
    "# Creating list of features\n",
    "feature_list = list(q2_train_x.columns)\n",
    "\n",
    "# Save the tree as a png image\n",
    "export_graphviz(tree_small, out_file = 'small_tree2.dot', feature_names = feature_list, rounded = True, precision = 1)\n",
    "\n",
    "(graph, ) = pydot.graph_from_dot_file('small_tree2.dot')\n",
    "\n",
    "graph.write_png('small_tree2.png');"
   ]
  },
  {
   "cell_type": "code",
   "execution_count": 79,
   "metadata": {},
   "outputs": [
    {
     "data": {
      "image/png": "[encoded data removed]",
      "text/plain": [
       "<IPython.core.display.Image object>"
      ]
     },
     "execution_count": 79,
     "metadata": {},
     "output_type": "execute_result"
    }
   ],
   "source": [
    "# Displaying this exported image:\n",
    "Image('small_tree2.png')"
   ]
  },
  {
   "cell_type": "markdown",
   "metadata": {},
   "source": [
    "The Results show that whether the Description mentions Credit is the strongest indicator of whether the car will be less than $10k. If Credit is mentioned, its more likely to be >10k. Then, the other variables are as shown.\n",
    "\n",
    "## Test Accuracy:\n",
    "Processing the Test Data in the same way as Training Data:"
   ]
  },
  {
   "cell_type": "code",
   "execution_count": 16,
   "metadata": {},
   "outputs": [],
   "source": [
    "## Importing data:\n",
    "large_test2 = pd.read_csv('final_predcomp_test_data.csv',low_memory=False)\n",
    "## Since I plan to use dates extensively, ensuring parse_dates is mentioned:\n",
    "text_test2 = pd.read_csv('final_predcomp_test_data_additional_text_variables.csv',low_memory=False,\n",
    "                       parse_dates=[\"posting_date\"])\n",
    "# Left Outer Merge:\n",
    "testdata2 = large_test2.merge(text_test2, on='id', how='left')\n",
    "\n",
    "## Dropping Columns I'm not going to use:\n",
    "testdata2.drop('model', axis=1, inplace=True)\n",
    "testdata2.drop('region', axis=1, inplace=True)\n",
    "testdata2.drop('description', axis=1, inplace=True)\n",
    "testdata2.drop('id', axis=1, inplace=True)\n",
    "\n",
    "## Converting Price to Binary Variable for Price >$10,000:\n",
    "testdata2['price'].values[testdata2['price'] < 10000] = 0\n",
    "testdata2['price'].values[testdata2['price'] >= 10000] = 1\n",
    "testdata2['price'] = testdata2['price'].astype(bool)\n",
    "\n",
    "## Creating new variables from date:\n",
    "add_datepart(testdata2, 'posting_date')"
   ]
  },
  {
   "cell_type": "markdown",
   "metadata": {},
   "source": [
    "Predicting Results of our model on test data:"
   ]
  },
  {
   "cell_type": "code",
   "execution_count": 17,
   "metadata": {},
   "outputs": [],
   "source": [
    "## Ensuring same categories:\n",
    "apply_cats(testdata2, q2data)\n",
    "\n",
    "## Applying final processing using proc_df:\n",
    "q2test_x, q2test_y = proc_df(testdata2, 'price')"
   ]
  },
  {
   "cell_type": "markdown",
   "metadata": {},
   "source": [
    "Predicting Results of our model on test data:"
   ]
  },
  {
   "cell_type": "code",
   "execution_count": 20,
   "metadata": {},
   "outputs": [
    {
     "name": "stdout",
     "output_type": "stream",
     "text": [
      "Percent Accuracy - Test\n",
      "0.9283\n"
     ]
    }
   ],
   "source": [
    "res = accuracy_score(q2test_y, m.predict(q2test_x))\n",
    "print(\"Percent Accuracy - Test\")\n",
    "print(res)\n"
   ]
  },
  {
   "cell_type": "markdown",
   "metadata": {},
   "source": [
    "## Bonus Question\n",
    "I will try to replicate the results of the paper with my own data. In the interest of time, I'll be confirming whether the results visually look similar, aka is there a discontinuity at every 10k miles. This should be good enough to show us if the trend continues."
   ]
  },
  {
   "cell_type": "code",
   "execution_count": 113,
   "metadata": {},
   "outputs": [],
   "source": [
    "## Creating New Dataframe:\n",
    "bonusdata = large_data[['price','odometer']].copy()\n",
    "\n",
    "## Dropping NaN values:\n",
    "bonusdata = bonusdata.dropna()"
   ]
  },
  {
   "cell_type": "markdown",
   "metadata": {},
   "source": [
    "#### Rounding Odometer down to nearest 500:\n",
    "Doing this so its the same as our reference article."
   ]
  },
  {
   "cell_type": "code",
   "execution_count": 114,
   "metadata": {},
   "outputs": [],
   "source": [
    "## Defining Function to round down to the nearest $500:\n",
    "def custom_round(x, base=500):\n",
    "    return int(base * np.floor(float(x)/base))\n",
    "\n",
    "bonusdata.odometer = bonusdata.odometer.apply(lambda x: custom_round(x, base=500))"
   ]
  },
  {
   "cell_type": "markdown",
   "metadata": {},
   "source": [
    "Do we need to do an Average Sale Price? Or can we just plot the price as is."
   ]
  },
  {
   "cell_type": "code",
   "execution_count": 117,
   "metadata": {},
   "outputs": [
    {
     "data": {
      "text/plain": [
       "Text(0, 0.5, 'Sales price')"
      ]
     },
     "execution_count": 117,
     "metadata": {},
     "output_type": "execute_result"
    },
    {
     "data": {
      "image/png": "[encoded data removed]",
      "text/plain": [
       "<Figure size 432x288 with 1 Axes>"
      ]
     },
     "metadata": {
      "needs_background": "light"
     },
     "output_type": "display_data"
    }
   ],
   "source": [
    "plt.scatter(bonusdata.odometer,bonusdata.price,c='blue')\n",
    "plt.xlabel(\"Miles on car (rounded down to nearest $500)\")\n",
    "plt.ylabel(\"Sale price\")"
   ]
  },
  {
   "cell_type": "markdown",
   "metadata": {},
   "source": [
    "Whoops. This is not useful at all. We're going to need the average sale price."
   ]
  },
  {
   "cell_type": "code",
   "execution_count": 123,
   "metadata": {},
   "outputs": [],
   "source": [
    "bonusdata1 = bonusdata.groupby('odometer').mean()"
   ]
  },
  {
   "cell_type": "code",
   "execution_count": 127,
   "metadata": {},
   "outputs": [
    {
     "data": {
      "text/plain": [
       "Text(0, 0.5, 'Average Sale price')"
      ]
     },
     "execution_count": 127,
     "metadata": {},
     "output_type": "execute_result"
    },
    {
     "data": {
      "image/png": "[encoded data removed]",
      "text/plain": [
       "<Figure size 432x288 with 1 Axes>"
      ]
     },
     "metadata": {
      "needs_background": "light"
     },
     "output_type": "display_data"
    }
   ],
   "source": [
    "plt.scatter(bonusdata1.index,bonusdata1.price,c='blue')\n",
    "plt.xlabel(\"Miles on car (rounded down to nearest $500)\")\n",
    "plt.ylabel(\"Average Sale price\")"
   ]
  },
  {
   "cell_type": "markdown",
   "metadata": {},
   "source": [
    "The problem here is that I did not truncate the data. The **cars at the extremes are bound to have weird pricing**, primarily due to fewer datapoints. They may also have qualitative factors such as rarity, etc. Truncating data to 120000 as done in the article:"
   ]
  },
  {
   "cell_type": "code",
   "execution_count": 138,
   "metadata": {},
   "outputs": [],
   "source": [
    "bonusdata1 = bonusdata1.truncate(after=120000)"
   ]
  },
  {
   "cell_type": "code",
   "execution_count": 139,
   "metadata": {},
   "outputs": [
    {
     "data": {
      "text/plain": [
       "Text(0, 0.5, 'Average Sale price')"
      ]
     },
     "execution_count": 139,
     "metadata": {},
     "output_type": "execute_result"
    },
    {
     "data": {
      "image/png": "[encoded data removed]",
      "text/plain": [
       "<Figure size 432x288 with 1 Axes>"
      ]
     },
     "metadata": {
      "needs_background": "light"
     },
     "output_type": "display_data"
    }
   ],
   "source": [
    "plt.scatter(bonusdata1.index,bonusdata1.price,c='blue')\n",
    "plt.xlabel(\"Miles on car (rounded down to nearest $500)\")\n",
    "plt.ylabel(\"Average Sale price\")"
   ]
  },
  {
   "cell_type": "markdown",
   "metadata": {},
   "source": [
    "The spread here is too high for us to be able to meaningfully say anything about its adherence to the article's findings. Going to try and smoothen out more by rounding to nearest 1000 miles:"
   ]
  },
  {
   "cell_type": "code",
   "execution_count": 163,
   "metadata": {},
   "outputs": [
    {
     "data": {
      "text/plain": [
       "Text(0, 0.5, 'Average Sale price')"
      ]
     },
     "execution_count": 163,
     "metadata": {},
     "output_type": "execute_result"
    },
    {
     "data": {
      "image/png": "[encoded data removed]",
      "text/plain": [
       "<Figure size 432x288 with 1 Axes>"
      ]
     },
     "metadata": {
      "needs_background": "light"
     },
     "output_type": "display_data"
    }
   ],
   "source": [
    "## Creating New Dataframe:\n",
    "bonusdata = large_data[['price','odometer']].copy()\n",
    "\n",
    "## Dropping NaN values:\n",
    "bonusdata = bonusdata.dropna()\n",
    "\n",
    "def custom_round(x, base=1000):\n",
    "    return int(base * np.floor(float(x)/base))\n",
    "\n",
    "bonusdata.odometer = bonusdata.odometer.apply(lambda x: custom_round(x, base=1000))\n",
    "\n",
    "bonusdata1 = bonusdata.groupby('odometer').mean()\n",
    "bonusdata1 = bonusdata1.truncate(after=60000)\n",
    "bonusdata1 = bonusdata1.truncate(before=10000)\n",
    "\n",
    "plt.scatter(bonusdata1.index,bonusdata1.price,c='blue')\n",
    "plt.xlabel(\"Miles on car (rounded down to nearest $1000)\")\n",
    "plt.ylabel(\"Average Sale price\")"
   ]
  },
  {
   "cell_type": "markdown",
   "metadata": {},
   "source": [
    "Again, while the data is following the general downwards trend, its **too noisy to see any discontinuities on the graph**. There is a **vague discontinuity at odometer = 30,000**, but nothing other than that.\n",
    "\n",
    "My theory is that I dont have enough data to form a clean line like the writer of the article."
   ]
  },
  {
   "cell_type": "code",
   "execution_count": 167,
   "metadata": {},
   "outputs": [
    {
     "data": {
      "text/plain": [
       "odometer\n",
       "10000    28153.094304\n",
       "11000    28056.616512\n",
       "12000    28408.691143\n",
       "13000    28002.321217\n",
       "14000    27430.047918\n",
       "15000    27671.644460\n",
       "16000    26946.926539\n",
       "17000    26755.863190\n",
       "18000    27803.702407\n",
       "19000    27152.126492\n",
       "20000    26257.227864\n",
       "Name: price, dtype: float64"
      ]
     },
     "execution_count": 167,
     "metadata": {},
     "output_type": "execute_result"
    }
   ],
   "source": [
    "bonusdata1.price.iloc[0:11]"
   ]
  },
  {
   "cell_type": "code",
   "execution_count": 170,
   "metadata": {},
   "outputs": [
    {
     "data": {
      "text/plain": [
       "[<matplotlib.lines.Line2D at 0x1823fba1be0>]"
      ]
     },
     "execution_count": 170,
     "metadata": {},
     "output_type": "execute_result"
    },
    {
     "data": {
      "image/png": "[encoded data removed]",
      "text/plain": [
       "<Figure size 432x288 with 1 Axes>"
      ]
     },
     "metadata": {
      "needs_background": "light"
     },
     "output_type": "display_data"
    }
   ],
   "source": [
    "## Creating New Dataframe:\n",
    "bonusdata = large_data[['price','odometer']].copy()\n",
    "\n",
    "## Dropping NaN values:\n",
    "bonusdata = bonusdata.dropna()\n",
    "\n",
    "def custom_round(x, base=1000):\n",
    "    return int(base * np.floor(float(x)/base))\n",
    "\n",
    "bonusdata.odometer = bonusdata.odometer.apply(lambda x: custom_round(x, base=1000))\n",
    "\n",
    "bonusdata1 = bonusdata.groupby('odometer').mean()\n",
    "bonusdata1 = bonusdata1.truncate(after=60000)\n",
    "bonusdata1 = bonusdata1.truncate(before=10000)\n",
    "\n",
    "plt.scatter(bonusdata1.index,bonusdata1.price,c='blue')\n",
    "plt.xlabel(\"Miles on car (rounded down to nearest $1000)\")\n",
    "plt.ylabel(\"Average Sale price\")\n",
    "\n",
    "## Main Trendline:\n",
    "z = np.polyfit(bonusdata1.index, bonusdata1.price, 1)\n",
    "p = np.poly1d(z)\n",
    "plt.plot(bonusdata1.index,p(bonusdata1.index),\"r--\")\n",
    "## Segment Trendlines:\n",
    "\n",
    "z = np.polyfit(bonusdata1.index[10:21], bonusdata1.price.iloc[10:21], 1)\n",
    "p = np.poly1d(z)\n",
    "plt.plot(bonusdata1.index[10:21], bonusdata1.price.iloc[10:21],\"b--\")"
   ]
  },
  {
   "cell_type": "code",
   "execution_count": null,
   "metadata": {},
   "outputs": [],
   "source": []
  }
 ],
 "metadata": {
  "kernelspec": {
   "display_name": "Python 3",
   "language": "python",
   "name": "python3"
  },
  "language_info": {
   "codemirror_mode": {
    "name": "ipython",
    "version": 3
   },
   "file_extension": ".py",
   "mimetype": "text/x-python",
   "name": "python",
   "nbconvert_exporter": "python",
   "pygments_lexer": "ipython3",
   "version": "3.7.1"
  }
 },
 "nbformat": 4,
 "nbformat_minor": 4
}
